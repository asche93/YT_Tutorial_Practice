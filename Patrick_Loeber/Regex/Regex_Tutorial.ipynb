{
 "cells": [
  {
   "cell_type": "markdown",
   "id": "c2fac46b-896e-4213-b689-aba9ba41f581",
   "metadata": {},
   "source": [
    "Title: Regular Expressions in Python - FULL COURSE (1 HOUR) - Programming Tutorial\n",
    "\n",
    "Source: Patrick Loeber YouTube Channel\n",
    "\n",
    "Author (Original Tutorial): Patrick Loeber\n",
    "\n",
    "URL: https://www.youtube.com/watch?v=AEE9ecgLgdQ&list=PLJjO7syMbvVMYdDYNLvtjS3BQkRoBnifP&index=8\n",
    "\n",
    "Date of Implementation: 2025-01-05\n",
    "\n",
    "Description: \n",
    "\n",
    "In this Python Tutorial, we will be learning about Regular Expressions (Regex) in Python. Regular expressions are a powerful language for matching text patterns. Possible pattern examples for searches are e-mail addresses or domain names. This video covers all you need to know to understand any regex expression! I go over all important concepts and mix examples in between.\n",
    "\n",
    "Written tutorial: https://www.python-engineer.com/posts/regular-expressions/\n",
    "\n",
    "0) re Module \n",
    "1) Methods to search for matches \n",
    "2) Methods on a match object \n",
    "3) Meta Characters \n",
    "4) Special Sequences \n",
    "5) Sets\n",
    "6) Quantifier \n",
    "7) Conditions \n",
    "8) Grouping \n",
    "9) Modification \n",
    "10) Compilation Flags \n",
    "    "
   ]
  },
  {
   "cell_type": "markdown",
   "id": "24365228-8f8f-4f6a-bc78-ec4a2e1973b2",
   "metadata": {},
   "source": [
    "# 0) re module"
   ]
  },
  {
   "cell_type": "code",
   "execution_count": 1,
   "id": "5ea9ec36-51bc-49dc-9e9e-2d9da6b0c334",
   "metadata": {},
   "outputs": [],
   "source": [
    "import re"
   ]
  },
  {
   "cell_type": "markdown",
   "id": "89c38d87-0103-4b33-9b81-464c14820dec",
   "metadata": {},
   "source": [
    "# 1) Methods to search for matches\n",
    "- finditer()\n",
    "- match()\n",
    "- search()\n",
    "- findall()"
   ]
  },
  {
   "cell_type": "code",
   "execution_count": 2,
   "id": "7f08fced-2b7f-45c4-a390-3ae73c20abb5",
   "metadata": {},
   "outputs": [
    {
     "name": "stdout",
     "output_type": "stream",
     "text": [
      "<re.Match object; span=(3, 6), match='abc'>\n",
      "<re.Match object; span=(12, 15), match='abc'>\n"
     ]
    }
   ],
   "source": [
    "test_string1 = '123abc456789abc1011ABC'\n",
    "# two style possible with or without pattern variable\n",
    "\n",
    "#pattern = re.compile(r\"abc\") # case sensitive\n",
    "#matches = pattern.finditer(test_string1) # object one can iter\n",
    "\n",
    "# explicity compile the pattern and create object #\n",
    "# r to get raw string\n",
    "matches = re.finditer(r\"abc\", test_string1)\n",
    "\n",
    "for match in matches:\n",
    "    print(match)"
   ]
  },
  {
   "cell_type": "code",
   "execution_count": 3,
   "id": "00fee65f-c410-494b-8351-58ada71e3460",
   "metadata": {},
   "outputs": [
    {
     "name": "stdout",
     "output_type": "stream",
     "text": [
      "abc\n",
      "abc\n"
     ]
    }
   ],
   "source": [
    "matches = re.findall(r\"abc\", test_string1)\n",
    "for match in matches:\n",
    "    print(match)"
   ]
  },
  {
   "cell_type": "code",
   "execution_count": 4,
   "id": "4373a480-40ab-49cd-8578-7d8dcc260b45",
   "metadata": {},
   "outputs": [
    {
     "name": "stdout",
     "output_type": "stream",
     "text": [
      "None\n",
      "<re.Match object; span=(0, 3), match='123'>\n"
     ]
    }
   ],
   "source": [
    "# Only first matching pattern in the beginning of the string\n",
    "match = re.match(r\"abc\", test_string1)\n",
    "print(match)\n",
    "match = re.match(r\"123\", test_string1)\n",
    "print(match)"
   ]
  },
  {
   "cell_type": "code",
   "execution_count": 5,
   "id": "11ae5a08-b901-4cfd-84b8-8b15b4093816",
   "metadata": {},
   "outputs": [
    {
     "name": "stdout",
     "output_type": "stream",
     "text": [
      "<re.Match object; span=(3, 6), match='abc'>\n"
     ]
    }
   ],
   "source": [
    "# Search looks for any location where the re matches, only first match\n",
    "match = re.search(r\"abc\", test_string1)\n",
    "\n",
    "print(match)"
   ]
  },
  {
   "cell_type": "markdown",
   "id": "b2a7f009-be39-464b-9624-f73de13e116c",
   "metadata": {},
   "source": [
    "# 2) Methods on a match object\n",
    "- group\n",
    "- start\n",
    "- end\n",
    "- span"
   ]
  },
  {
   "cell_type": "code",
   "execution_count": 6,
   "id": "74923427-2664-497a-b814-5b0fa8a2234f",
   "metadata": {},
   "outputs": [
    {
     "name": "stdout",
     "output_type": "stream",
     "text": [
      "Just Object: <re.Match object; span=(3, 6), match='abc'>\n",
      "Span: (3, 6)\n",
      "Start: 3\n",
      "End: 6\n",
      "Group: abc\n"
     ]
    }
   ],
   "source": [
    "# Continue with finditer\n",
    "matches = re.finditer(r\"abc\", test_string1)\n",
    "\n",
    "# group, start, end, span\n",
    "for match in matches:\n",
    "    print(\"Just Object:\", match)\n",
    "    print(\"Span:\", match.span())\n",
    "    print(\"Start:\", match.start())\n",
    "    print(\"End:\", match.end())\n",
    "    print(\"Group:\", match.group(0)) # group can take arguments\n",
    "    break\n"
   ]
  },
  {
   "cell_type": "markdown",
   "id": "0a97e1cf-24ee-4f4f-8769-02ad4fbdcd38",
   "metadata": {},
   "source": [
    "# 3) Meta characters\n",
    "\n",
    "All meta characters:\n",
    "\n",
    "## . ^ $ + ? { } [ ] \\ | ( )\n",
    "\n",
    ". Any character (except newline character)\n",
    "\n",
    "^ Starts with \"^hello\"\n",
    "\n",
    "\\$ Ends with \"world\\\\$\"\n",
    "\n",
    "----\n",
    "\n",
    "### Quantifiers:\n",
    "\n",
    "\\* Zero or more occurrences \"aix*\"\n",
    "\n",
    "\\+ One or more occurrences \"aix+\"\n",
    "\n",
    "{ } Exactly the specified number of occurrences \"al{2}\"\n",
    "\n",
    "---\n",
    "\n",
    "[ ] A set of characters \"[a-m]\"\n",
    "\n",
    "\\ Special sequence (or escape special characters) \"\\d\"\n",
    "\n",
    "| Either or \"falls|stays\"\n",
    "\n",
    "( ) Capture and group"
   ]
  },
  {
   "cell_type": "code",
   "execution_count": 7,
   "id": "9e1cb333-9318-42a7-b25d-7b5c37b95903",
   "metadata": {},
   "outputs": [
    {
     "name": "stdout",
     "output_type": "stream",
     "text": [
      "1\n",
      "2\n",
      "3\n",
      "a\n",
      "b\n",
      "c\n",
      "4\n",
      "5\n",
      "6\n",
      "7\n",
      "8\n",
      "9\n",
      "a\n",
      "b\n",
      "c\n",
      "1\n",
      "0\n",
      "1\n",
      "1\n",
      "A\n",
      "B\n",
      "C\n"
     ]
    }
   ],
   "source": [
    "matches = re.finditer(r\".\", test_string1)\n",
    "\n",
    "for match in matches:\n",
    "    print(match.group())"
   ]
  },
  {
   "cell_type": "code",
   "execution_count": 8,
   "id": "98282b3d-c0bc-4f05-bee9-5cb34f8ac16f",
   "metadata": {},
   "outputs": [
    {
     "name": "stdout",
     "output_type": "stream",
     "text": [
      ".\n"
     ]
    }
   ],
   "source": [
    "test_string1 = '123abc456789abc1011ABC.'\n",
    "matches = re.finditer(r\"\\.\", test_string1) # escape dot\n",
    "\n",
    "for match in matches:\n",
    "    print(match.group())"
   ]
  },
  {
   "cell_type": "code",
   "execution_count": 9,
   "id": "b6e9f46e-a373-4260-bc6a-1b6b8f89e831",
   "metadata": {},
   "outputs": [
    {
     "name": "stdout",
     "output_type": "stream",
     "text": [
      "<re.Match object; span=(0, 3), match='123'>\n"
     ]
    }
   ],
   "source": [
    "matches = re.finditer(r\"^123\", test_string1) \n",
    "\n",
    "for match in matches:\n",
    "    print(match)"
   ]
  },
  {
   "cell_type": "code",
   "execution_count": 10,
   "id": "d8e04a17-87a8-41de-8623-c39cfd0248be",
   "metadata": {},
   "outputs": [],
   "source": [
    "matches = re.finditer(r\"^abc\", test_string1) \n",
    "\n",
    "for match in matches:\n",
    "    print(match)"
   ]
  },
  {
   "cell_type": "code",
   "execution_count": 11,
   "id": "6f17d8b2-3816-4fb2-9b9e-6a72a11531a0",
   "metadata": {},
   "outputs": [
    {
     "name": "stdout",
     "output_type": "stream",
     "text": [
      "<re.Match object; span=(19, 22), match='ABC'>\n"
     ]
    }
   ],
   "source": [
    "test_string1 = '123abc456789abc1011ABC'\n",
    "matches = re.finditer(r\"ABC$\", test_string1) \n",
    "\n",
    "for match in matches:\n",
    "    print(match)"
   ]
  },
  {
   "cell_type": "markdown",
   "id": "04ddface-47bf-4e6c-9f82-2b3dd4cdcf14",
   "metadata": {},
   "source": [
    "# 4) More special sequences\n",
    "\n",
    "\\d: Matches any decimal digit; \\[0-9]\n",
    "\n",
    "\\D: Matches any non-digit character;\n",
    "\n",
    "\\s: Matches any whitespace character; (space \" \", tab \"\\t\", newline \"\\n\")\n",
    "\n",
    "\\S: Matches any non-whitespace character;\n",
    "\n",
    "\\w: Matches any alphanumeric (word) character; \\[a-zA-Z0-9_]\n",
    "\n",
    "\\W: Matches any non-alphanumerical character;\n",
    "\n",
    "\\b: Matches where specified characters are at the beginning or the end of a word; r\"\\bain\" r\"\\ain\\b\"\n",
    "\n",
    "\\B: Matches where specified characters are present, but NOT at the beginning (or the end) of a word; r\"\\Bain\" r\"ain\\B\""
   ]
  },
  {
   "cell_type": "code",
   "execution_count": 12,
   "id": "63db6137-9ad8-4182-8d28-f5ced65a47d9",
   "metadata": {},
   "outputs": [
    {
     "name": "stdout",
     "output_type": "stream",
     "text": [
      "<re.Match object; span=(6, 7), match='1'>\n",
      "<re.Match object; span=(7, 8), match='2'>\n",
      "<re.Match object; span=(8, 9), match='3'>\n"
     ]
    }
   ],
   "source": [
    "test_string2 = 'hello 123_ heyho\\nhohey'\n",
    "\n",
    "matches = re.finditer(r\"\\d\", test_string2)\n",
    "for match in matches:\n",
    "    print(match)"
   ]
  },
  {
   "cell_type": "code",
   "execution_count": 13,
   "id": "fca73ca6-892f-40b3-92a0-bb74d64b4bc4",
   "metadata": {},
   "outputs": [
    {
     "name": "stdout",
     "output_type": "stream",
     "text": [
      "<re.Match object; span=(5, 6), match=' '>\n",
      "<re.Match object; span=(10, 11), match=' '>\n",
      "<re.Match object; span=(16, 17), match='\\n'>\n"
     ]
    }
   ],
   "source": [
    "matches = re.finditer(r\"\\s\", test_string2)\n",
    "for match in matches:\n",
    "    print(match)"
   ]
  },
  {
   "cell_type": "code",
   "execution_count": 14,
   "id": "00467dd9-f431-4591-80bf-087420237030",
   "metadata": {},
   "outputs": [
    {
     "name": "stdout",
     "output_type": "stream",
     "text": [
      "<re.Match object; span=(0, 1), match='h'>\n",
      "<re.Match object; span=(1, 2), match='e'>\n",
      "<re.Match object; span=(2, 3), match='l'>\n",
      "<re.Match object; span=(3, 4), match='l'>\n",
      "<re.Match object; span=(4, 5), match='o'>\n",
      "<re.Match object; span=(6, 7), match='1'>\n",
      "<re.Match object; span=(7, 8), match='2'>\n",
      "<re.Match object; span=(8, 9), match='3'>\n",
      "<re.Match object; span=(9, 10), match='_'>\n",
      "<re.Match object; span=(11, 12), match='h'>\n",
      "<re.Match object; span=(12, 13), match='e'>\n",
      "<re.Match object; span=(13, 14), match='y'>\n",
      "<re.Match object; span=(14, 15), match='h'>\n",
      "<re.Match object; span=(15, 16), match='o'>\n",
      "<re.Match object; span=(17, 18), match='h'>\n",
      "<re.Match object; span=(18, 19), match='o'>\n",
      "<re.Match object; span=(19, 20), match='h'>\n",
      "<re.Match object; span=(20, 21), match='e'>\n",
      "<re.Match object; span=(21, 22), match='y'>\n"
     ]
    }
   ],
   "source": [
    "matches = re.finditer(r\"\\w\", test_string2)\n",
    "for match in matches:\n",
    "    print(match)"
   ]
  },
  {
   "cell_type": "code",
   "execution_count": 15,
   "id": "2bbb0bec-2f10-4133-8830-79f78806b5d1",
   "metadata": {},
   "outputs": [
    {
     "name": "stdout",
     "output_type": "stream",
     "text": [
      "<re.Match object; span=(11, 14), match='hey'>\n"
     ]
    }
   ],
   "source": [
    "# a block is any character sequence followed by a whitespace\n",
    "matches = re.finditer(r\"\\bhey\", test_string2)\n",
    "for match in matches:\n",
    "    print(match)"
   ]
  },
  {
   "cell_type": "code",
   "execution_count": 16,
   "id": "a7a314e2-dca8-4e1a-9966-667390e041a5",
   "metadata": {},
   "outputs": [
    {
     "name": "stdout",
     "output_type": "stream",
     "text": [
      "<re.Match object; span=(19, 22), match='hey'>\n"
     ]
    }
   ],
   "source": [
    "matches = re.finditer(r\"hey\\b\", test_string2)\n",
    "for match in matches:\n",
    "    print(match)"
   ]
  },
  {
   "cell_type": "code",
   "execution_count": 17,
   "id": "05a8267f-a757-427c-93bb-85df5f023273",
   "metadata": {},
   "outputs": [
    {
     "name": "stdout",
     "output_type": "stream",
     "text": [
      "<re.Match object; span=(1, 3), match='el'>\n"
     ]
    }
   ],
   "source": [
    "matches = re.finditer(r\"el\\B\", test_string2)\n",
    "for match in matches:\n",
    "    print(match)"
   ]
  },
  {
   "cell_type": "markdown",
   "id": "a2caf92c-2aea-4385-ba3e-b35c03e67dc2",
   "metadata": {},
   "source": [
    "# 5) Sets"
   ]
  },
  {
   "cell_type": "code",
   "execution_count": 18,
   "id": "ddf78e49-ab97-4981-907a-4ff53b2fccdc",
   "metadata": {},
   "outputs": [
    {
     "name": "stdout",
     "output_type": "stream",
     "text": [
      "<re.Match object; span=(2, 3), match='l'>\n",
      "<re.Match object; span=(3, 4), match='l'>\n",
      "<re.Match object; span=(4, 5), match='o'>\n"
     ]
    }
   ],
   "source": [
    "test_string3 = 'hello 123-_'\n",
    "\n",
    "# a set is a pattern inbetween squared brackets [ ]\n",
    "# in a set we can define multiple characters to search for\n",
    "# [lo] looks for any single character in this set\n",
    "matches = re.finditer(r\"[lo]\", test_string3)\n",
    "for match in matches:\n",
    "    print(match)"
   ]
  },
  {
   "cell_type": "code",
   "execution_count": 19,
   "id": "19387dbe-5275-45d9-bfda-cba96df2ad42",
   "metadata": {},
   "outputs": [
    {
     "name": "stdout",
     "output_type": "stream",
     "text": [
      "<re.Match object; span=(0, 1), match='h'>\n",
      "<re.Match object; span=(1, 2), match='e'>\n",
      "<re.Match object; span=(2, 3), match='l'>\n",
      "<re.Match object; span=(3, 4), match='l'>\n",
      "<re.Match object; span=(4, 5), match='o'>\n"
     ]
    }
   ],
   "source": [
    "# specify ranges (very common)\n",
    "matches = re.finditer(r\"[a-z]\", test_string3)\n",
    "for match in matches:\n",
    "    print(match)"
   ]
  },
  {
   "cell_type": "code",
   "execution_count": 20,
   "id": "859ef147-0e5a-4dbc-8a50-daec6b02685c",
   "metadata": {},
   "outputs": [
    {
     "name": "stdout",
     "output_type": "stream",
     "text": [
      "<re.Match object; span=(7, 8), match='2'>\n",
      "<re.Match object; span=(8, 9), match='3'>\n"
     ]
    }
   ],
   "source": [
    "# look for digits in range\n",
    "matches = re.finditer(r\"[2-3]\", test_string3)\n",
    "for match in matches:\n",
    "    print(match)"
   ]
  },
  {
   "cell_type": "code",
   "execution_count": 21,
   "id": "3d5eaac1-2691-45ed-8a9c-8fdc22c22d54",
   "metadata": {},
   "outputs": [
    {
     "name": "stdout",
     "output_type": "stream",
     "text": [
      "<re.Match object; span=(6, 7), match='1'>\n",
      "<re.Match object; span=(7, 8), match='2'>\n",
      "<re.Match object; span=(8, 9), match='3'>\n",
      "<re.Match object; span=(9, 10), match='-'>\n"
     ]
    }
   ],
   "source": [
    "# search also for dash (after specified range)\n",
    "matches = re.finditer(r\"[0-9-]\", test_string3)\n",
    "for match in matches:\n",
    "    print(match)"
   ]
  },
  {
   "cell_type": "code",
   "execution_count": 22,
   "id": "7ffa8ea8-cad0-4a2e-a1dd-8a1946e5f1c0",
   "metadata": {},
   "outputs": [
    {
     "name": "stdout",
     "output_type": "stream",
     "text": [
      "<re.Match object; span=(0, 1), match='h'>\n",
      "<re.Match object; span=(1, 2), match='e'>\n",
      "<re.Match object; span=(2, 3), match='l'>\n",
      "<re.Match object; span=(3, 4), match='l'>\n",
      "<re.Match object; span=(4, 5), match='o'>\n",
      "<re.Match object; span=(5, 6), match='H'>\n",
      "<re.Match object; span=(6, 7), match='E'>\n",
      "<re.Match object; span=(7, 8), match='L'>\n",
      "<re.Match object; span=(8, 9), match='L'>\n",
      "<re.Match object; span=(9, 10), match='O'>\n",
      "<re.Match object; span=(11, 12), match='1'>\n",
      "<re.Match object; span=(12, 13), match='2'>\n",
      "<re.Match object; span=(13, 14), match='3'>\n"
     ]
    }
   ],
   "source": [
    "test_string4 = 'helloHELLO 123-_'\n",
    "# only lower case, then also upper case, then also numeric\n",
    "matches = re.finditer(r\"[a-zA-Z0-9]\", test_string4)\n",
    "for match in matches:\n",
    "    print(match)"
   ]
  },
  {
   "cell_type": "markdown",
   "id": "c1f4b68a-71c7-4589-b4dc-ae8c5f0ec447",
   "metadata": {},
   "source": [
    "# 6) Quantifier\n",
    "- \\* : 0 or more\n",
    "- \\+ : 1 or more\n",
    "- ? : 0 or 1, -> optional character\n",
    "- {4} : exact number\n",
    "- {4,6} : range numbers (min, max)"
   ]
  },
  {
   "cell_type": "code",
   "execution_count": 23,
   "id": "2d01fc88-35ce-4c33-b7f2-9787189b95eb",
   "metadata": {},
   "outputs": [
    {
     "name": "stdout",
     "output_type": "stream",
     "text": [
      "<re.Match object; span=(6, 9), match='123'>\n"
     ]
    }
   ],
   "source": [
    "test_string4 = 'hello_123'\n",
    "# on or more matches of numerical characters, combined match of 123\n",
    "matches = re.finditer(r\"\\d+\", test_string4)\n",
    "for match in matches:\n",
    "    print(match)"
   ]
  },
  {
   "cell_type": "code",
   "execution_count": 24,
   "id": "20bbd39d-fc33-41c5-bef6-c5ffe76b3360",
   "metadata": {},
   "outputs": [
    {
     "name": "stdout",
     "output_type": "stream",
     "text": [
      "<re.Match object; span=(5, 9), match='_123'>\n"
     ]
    }
   ],
   "source": [
    "# optional underscore (we dont now if _ in string or not)\n",
    "matches = re.finditer(r\"_?\\d+\", test_string4)\n",
    "for match in matches:\n",
    "    print(match)"
   ]
  },
  {
   "cell_type": "code",
   "execution_count": 25,
   "id": "cdf94037-c852-4cd1-9fa7-37dd95748066",
   "metadata": {},
   "outputs": [
    {
     "name": "stdout",
     "output_type": "stream",
     "text": [
      "<re.Match object; span=(6, 9), match='123'>\n"
     ]
    }
   ],
   "source": [
    "# has to be exact 3 digits long numerical sequence\n",
    "matches = re.finditer(r\"\\d{3}\", test_string4)\n",
    "for match in matches:\n",
    "    print(match)"
   ]
  },
  {
   "cell_type": "code",
   "execution_count": 26,
   "id": "8b83abe0-f8ee-4672-b8f4-ea6758a3dcd6",
   "metadata": {},
   "outputs": [
    {
     "name": "stdout",
     "output_type": "stream",
     "text": [
      "<re.Match object; span=(6, 9), match='123'>\n"
     ]
    }
   ],
   "source": [
    "# can be 1 to 3 digits long numerical sequence\n",
    "matches = re.finditer(r\"\\d{1,3}\", test_string4)\n",
    "for match in matches:\n",
    "    print(match)"
   ]
  },
  {
   "cell_type": "markdown",
   "id": "c1779439-2e68-4613-b323-6b1bf58244cb",
   "metadata": {},
   "source": [
    "## Example"
   ]
  },
  {
   "cell_type": "code",
   "execution_count": 27,
   "id": "66458027-2326-4430-a07c-3cbf713d5517",
   "metadata": {},
   "outputs": [],
   "source": [
    "dates = \"\"\"\n",
    "hello\n",
    "01.04.2020\n",
    "\n",
    "2021.04.02\n",
    "\n",
    "2021-05-03\n",
    "2020-04-23\n",
    "2020-06-11\n",
    "2020-07-11\n",
    "2020-08-11\n",
    "\n",
    "2020/04/02\n",
    "\n",
    "2020_04_04\n",
    "2020_04_04\n",
    "\"\"\"\n",
    "# YYYY-MM-DD this should be the desired format"
   ]
  },
  {
   "cell_type": "code",
   "execution_count": 28,
   "id": "1331834b-6d5c-4c17-bdf4-8b0367b8fe0d",
   "metadata": {},
   "outputs": [
    {
     "name": "stdout",
     "output_type": "stream",
     "text": [
      "<re.Match object; span=(19, 29), match='2021.04.02'>\n",
      "<re.Match object; span=(31, 41), match='2021-05-03'>\n",
      "<re.Match object; span=(42, 52), match='2020-04-23'>\n",
      "<re.Match object; span=(53, 63), match='2020-06-11'>\n",
      "<re.Match object; span=(64, 74), match='2020-07-11'>\n",
      "<re.Match object; span=(75, 85), match='2020-08-11'>\n",
      "<re.Match object; span=(87, 97), match='2020/04/02'>\n",
      "<re.Match object; span=(99, 109), match='2020_04_04'>\n",
      "<re.Match object; span=(110, 120), match='2020_04_04'>\n"
     ]
    }
   ],
   "source": [
    "matches = re.finditer(r\"\\d\\d\\d\\d.\\d\\d.\\d\\d\", dates)\n",
    "for match in matches:\n",
    "    print(match)"
   ]
  },
  {
   "cell_type": "code",
   "execution_count": 29,
   "id": "73b4c237-76c3-49d4-ad2a-1af33a673a91",
   "metadata": {},
   "outputs": [
    {
     "name": "stdout",
     "output_type": "stream",
     "text": [
      "<re.Match object; span=(31, 41), match='2021-05-03'>\n",
      "<re.Match object; span=(42, 52), match='2020-04-23'>\n",
      "<re.Match object; span=(53, 63), match='2020-06-11'>\n",
      "<re.Match object; span=(64, 74), match='2020-07-11'>\n",
      "<re.Match object; span=(75, 85), match='2020-08-11'>\n",
      "<re.Match object; span=(87, 97), match='2020/04/02'>\n"
     ]
    }
   ],
   "source": [
    "# using set to include / as valid date\n",
    "matches = re.finditer(r\"\\d\\d\\d\\d[-/]\\d\\d[-/]\\d\\d\", dates)\n",
    "for match in matches:\n",
    "    print(match)"
   ]
  },
  {
   "cell_type": "code",
   "execution_count": 30,
   "id": "68945143-3d7b-4aa2-8eb8-d1cb03ea099f",
   "metadata": {},
   "outputs": [
    {
     "name": "stdout",
     "output_type": "stream",
     "text": [
      "<re.Match object; span=(31, 41), match='2021-05-03'>\n",
      "<re.Match object; span=(53, 63), match='2020-06-11'>\n"
     ]
    }
   ],
   "source": [
    "# only dates in may and june \n",
    "matches = re.finditer(r\"\\d\\d\\d\\d[-/]0[56][-/]\\d\\d\", dates)\n",
    "for match in matches:\n",
    "    print(match)"
   ]
  },
  {
   "cell_type": "code",
   "execution_count": 31,
   "id": "55b81d09-4112-4e23-b7c6-e55171fedd96",
   "metadata": {},
   "outputs": [
    {
     "name": "stdout",
     "output_type": "stream",
     "text": [
      "<re.Match object; span=(31, 41), match='2021-05-03'>\n",
      "<re.Match object; span=(53, 63), match='2020-06-11'>\n",
      "<re.Match object; span=(64, 74), match='2020-07-11'>\n"
     ]
    }
   ],
   "source": [
    "# only dates in may, june and july\n",
    "matches = re.finditer(r\"\\d{4}[-/]0[5-7][-/]\\d{2}\", dates)\n",
    "for match in matches:\n",
    "    print(match)"
   ]
  },
  {
   "cell_type": "markdown",
   "id": "cf798577-7d0f-4954-97b8-991cf763d9e0",
   "metadata": {},
   "source": [
    "# 7) Conditions"
   ]
  },
  {
   "cell_type": "code",
   "execution_count": 32,
   "id": "8bfd8806-9c5e-495c-bd84-99413f0063f5",
   "metadata": {},
   "outputs": [
    {
     "name": "stdout",
     "output_type": "stream",
     "text": [
      "<re.Match object; span=(31, 41), match='Mr Simpson'>\n",
      "<re.Match object; span=(42, 53), match='Mrs Simpson'>\n",
      "<re.Match object; span=(54, 63), match='Mr. Brown'>\n",
      "<re.Match object; span=(64, 72), match='Ms Smith'>\n",
      "<re.Match object; span=(73, 78), match='Mr. T'>\n"
     ]
    }
   ],
   "source": [
    "test_string5 = \"\"\"\n",
    "hello world\n",
    "123 23\n",
    "2022-04-02\n",
    "Mr Simpson\n",
    "Mrs Simpson\n",
    "Mr. Brown\n",
    "Ms Smith\n",
    "Mr. T\n",
    "\"\"\"\n",
    "# extract only the whole name\n",
    "# may also have Mrs, add by group condition () meta character\n",
    "matches = re.finditer(r\"(Mr|Ms|Mrs)\\.?\\s\\w+\", test_string5)\n",
    "for match in matches:\n",
    "    print(match)"
   ]
  },
  {
   "cell_type": "code",
   "execution_count": 33,
   "id": "eac107d1-a714-44c5-bc76-8f28bc639813",
   "metadata": {},
   "outputs": [
    {
     "name": "stdout",
     "output_type": "stream",
     "text": [
      "pythonengineer@gmail.com\n",
      "Python-engineer@gmx.de\n",
      "python-engineer123@my-domain.org\n"
     ]
    }
   ],
   "source": [
    "test_string6 = \"\"\"\n",
    "hello world\n",
    "123 23\n",
    "2022-04-02\n",
    "Mr Simpson\n",
    "Mrs Simpson\n",
    "Mr. Brown\n",
    "Ms Smith\n",
    "Mr. T\n",
    "pythonengineer@gmail.com\n",
    "Python-engineer@gmx.de\n",
    "python-engineer123@my-domain.org\n",
    "\"\"\"\n",
    "# use multiple sets to search extract emails\n",
    "matches = re.finditer(r\"[a-zA-Z0-9-]+@[a-zA-Z-]+\\.[a-zA-Z]+\", test_string6)\n",
    "for match in matches:\n",
    "    print(match.group(0)) # 0 group by default but others not accessable"
   ]
  },
  {
   "cell_type": "markdown",
   "id": "c770d639-9589-4b6e-804b-a38514a791f3",
   "metadata": {},
   "source": [
    "# 8) Grouping\n",
    "- use parenthesis to create groups in order to access them seperatly"
   ]
  },
  {
   "cell_type": "code",
   "execution_count": 34,
   "id": "223a3483-c950-4416-9e8c-50f1401ef048",
   "metadata": {},
   "outputs": [
    {
     "name": "stdout",
     "output_type": "stream",
     "text": [
      "pythonengineer\n",
      "Python-engineer\n",
      "python-engineer123\n"
     ]
    }
   ],
   "source": [
    "# explicitly group the match object into substrings\n",
    "# create three groups by ( ) to access them seperately\n",
    "matches = re.finditer(r\"([a-zA-Z0-9-]+)@([a-zA-Z-]+)\\.([a-zA-Z]+)\", test_string6)\n",
    "for match in matches:\n",
    "    print(match.group(1))"
   ]
  },
  {
   "cell_type": "markdown",
   "id": "584043ef-1658-4a77-8b10-9a8b7c1b53bf",
   "metadata": {},
   "source": [
    "# 9) Modification\n",
    "- Two methods to modify the string:\n",
    "1. split(): split into list (whereever regex matches)\n",
    "2. sub(): the same but replaces with different string\n"
   ]
  },
  {
   "cell_type": "code",
   "execution_count": 35,
   "id": "9c0023b0-01cf-48cd-821f-2755cc5eb6f7",
   "metadata": {},
   "outputs": [
    {
     "name": "stdout",
     "output_type": "stream",
     "text": [
      "['123', '456789', '123ABC']\n"
     ]
    }
   ],
   "source": [
    "test_string7 = '123abc456789abc123ABC'\n",
    "splitted = re.split(r\"abc\", test_string7)\n",
    "print(splitted)"
   ]
  },
  {
   "cell_type": "code",
   "execution_count": 36,
   "id": "34e2c339-4304-460f-b8fe-bc1e383d8bb1",
   "metadata": {},
   "outputs": [
    {
     "name": "stdout",
     "output_type": "stream",
     "text": [
      "hello planet, whats up?\n"
     ]
    }
   ],
   "source": [
    "test_string8 = \"hello world, whats up?\"\n",
    "subbed_string = re.sub(\"world\", \"planet\", test_string8)\n",
    "print(subbed_string)"
   ]
  },
  {
   "cell_type": "markdown",
   "id": "c2d8ac2c-760b-4243-aac1-9da4208440ad",
   "metadata": {},
   "source": [
    "## Final example"
   ]
  },
  {
   "cell_type": "code",
   "execution_count": 37,
   "id": "0cfa65bf-8630-47f7-bea2-98da23c37211",
   "metadata": {},
   "outputs": [
    {
     "name": "stdout",
     "output_type": "stream",
     "text": [
      "https://python-engineer.com\n",
      "https://www.youtube.com\n",
      "http://www.pyeng.net\n",
      "\n",
      "hello\n",
      "2022-12-23\n",
      "python-engineercom\n",
      "youtubecom\n",
      "pyengnet\n",
      "\n",
      "\n",
      "hello\n",
      "2022-12-23\n",
      "python-engineercom\n",
      "youtubecom\n",
      "pyengnet\n",
      "\n"
     ]
    }
   ],
   "source": [
    "urls = \"\"\"\n",
    "hello\n",
    "2022-12-23\n",
    "https://python-engineer.com\n",
    "https://www.youtube.com\n",
    "http://www.pyeng.net\n",
    "\"\"\"\n",
    "\n",
    "pattern = re.compile(r\"https?://(www\\.)?([a-zA-Z-]+)\\.([a-zA-Z]+)\")\n",
    "matches = pattern.finditer(urls)\n",
    "for match in matches:\n",
    "    print(match.group(0))\n",
    "\n",
    "# use groups by back reference \"\\2\\3\"\n",
    "subbed_urls = pattern.sub(r\"\\2\\3\", urls)\n",
    "print(subbed_urls)\n",
    "\n",
    "# or by one-liner again\n",
    "subbed_urls = re.sub(r\"https?://(www\\.)?([a-zA-Z-]+)\\.([a-zA-Z]+)\", r\"\\2\\3\", urls)\n",
    "print(subbed_urls)"
   ]
  },
  {
   "cell_type": "markdown",
   "id": "75cf1d98-e5ab-4894-b0ad-e9330fa0543c",
   "metadata": {},
   "source": [
    "# 10) Compilation flags\n",
    "- when we compile the pattern we have the option to choose different compilation flags:\n",
    "- ASCII, A: Makes several escapes like \\w, \\b, \\s and \\d match only ASCII characters\n",
    "- DOTALL, S: Make . match any character, including newlines.\n",
    "- IGNORECASE, I: Do case-insensitive matches.\n",
    "- LOCALE, L: Do a locale-aware match.\n",
    "- MULTILINE, M: Multi-line matching, affecting ^ and $.\n",
    "- VERBOSE, X (for 'extended'): Enable verbose REs, which can be organized more cleanly and understandable."
   ]
  },
  {
   "cell_type": "code",
   "execution_count": 38,
   "id": "56f772dc-7eb0-4284-8d72-3c575f270191",
   "metadata": {},
   "outputs": [
    {
     "name": "stdout",
     "output_type": "stream",
     "text": [
      "<re.Match object; span=(6, 11), match='World'>\n"
     ]
    }
   ],
   "source": [
    "my_string = \"Hello World\"\n",
    "# ignore case sensitivity flag \n",
    "pattern = re.compile(r\"world\", re.I)\n",
    "matches = pattern.finditer(my_string)\n",
    "for match in matches:\n",
    "    print(match)"
   ]
  },
  {
   "cell_type": "code",
   "execution_count": null,
   "id": "c428f1b7-5d11-4340-874b-8dec6d563aab",
   "metadata": {},
   "outputs": [],
   "source": []
  },
  {
   "cell_type": "code",
   "execution_count": null,
   "id": "285cc147-54af-46e2-8c27-17cf79b07c4e",
   "metadata": {},
   "outputs": [],
   "source": []
  },
  {
   "cell_type": "code",
   "execution_count": null,
   "id": "fd0bef6f-43c4-4411-91a1-ee6ba6ecb86f",
   "metadata": {},
   "outputs": [],
   "source": []
  }
 ],
 "metadata": {
  "kernelspec": {
   "display_name": "Python 3 (ipykernel)",
   "language": "python",
   "name": "python3"
  },
  "language_info": {
   "codemirror_mode": {
    "name": "ipython",
    "version": 3
   },
   "file_extension": ".py",
   "mimetype": "text/x-python",
   "name": "python",
   "nbconvert_exporter": "python",
   "pygments_lexer": "ipython3",
   "version": "3.10.14"
  }
 },
 "nbformat": 4,
 "nbformat_minor": 5
}
