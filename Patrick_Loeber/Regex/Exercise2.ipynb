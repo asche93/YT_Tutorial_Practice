{
 "cells": [
  {
   "cell_type": "markdown",
   "id": "20d3abb7-0144-455f-b62c-497a063f5306",
   "metadata": {},
   "source": [
    "# Exercises from ChatGPT\n",
    "Here are the regex practice exercises, formulated in English with increasing levels of difficulty:\n",
    "\n",
    "### Beginner Level:\n",
    "\n",
    "1.1.    String: \"abc123xyz456\"\n",
    "    Task: Extract all digits in the string.\n",
    "\n",
    "1.2    String: \"hello123\"\n",
    "    Task: Find the first sequence of numbers.\n",
    "\n",
    "1.3    String: \"abcdef\"\n",
    "    Task: Check if the string ends with \"def\".\n",
    "\n",
    "1.4    String: \"a1b2c3d4e5\"\n",
    "    Task: Find all digits that are preceded by a letter.\n",
    "\n",
    "1.5    String: \"this is a test\"\n",
    "    Task: Check if the string contains the word \"test\".\n",
    "\n",
    "1.6    String: \"12345abc678\"\n",
    "    Task: Extract the first sequence of numbers in the string.\n",
    "    \n",
    "1.7    String: \"abcdef\"\n",
    "    Task: Check if the string contains any vowels.\n",
    "\n",
    "1.8    String: \"12.34, 56.78\"\n",
    "    Task: Find all decimal numbers.\n",
    "\n",
    "1.9    String: \"HELLO world\"\n",
    "    Task: Check if the string starts with an uppercase word.\n",
    "\n",
    "1.10    String: \"a1b2c3d4e5\"\n",
    "    Task: Find all letters that are followed by a digit."
   ]
  },
  {
   "cell_type": "code",
   "execution_count": 2,
   "id": "3e912883-d064-46a8-872a-6c2ccc73c6ca",
   "metadata": {},
   "outputs": [
    {
     "name": "stdout",
     "output_type": "stream",
     "text": [
      "<re.Match object; span=(3, 4), match='1'>\n",
      "<re.Match object; span=(4, 5), match='2'>\n",
      "<re.Match object; span=(5, 6), match='3'>\n",
      "<re.Match object; span=(9, 10), match='4'>\n",
      "<re.Match object; span=(10, 11), match='5'>\n",
      "<re.Match object; span=(11, 12), match='6'>\n"
     ]
    }
   ],
   "source": [
    "import re \n",
    "# 1.1 Extract all digits in the string.\n",
    "string1 = \"abc123xyz456\"\n",
    "pattern = r\"\\d\"\n",
    "matches = re.finditer(pattern, string1)\n",
    "for match in matches:\n",
    "    print(match)"
   ]
  },
  {
   "cell_type": "code",
   "execution_count": 18,
   "id": "488c807a-4e07-413f-836f-19497a757576",
   "metadata": {},
   "outputs": [
    {
     "name": "stdout",
     "output_type": "stream",
     "text": [
      "<re.Match object; span=(3, 6), match='123'>\n"
     ]
    }
   ],
   "source": [
    "# 1.2 Find the first sequence of numbers.\n",
    "string2 = \"abc123xyz456\"\n",
    "pattern = r\"\\d+\"\n",
    "match = re.search(pattern, string2)\n",
    "print(match)"
   ]
  },
  {
   "cell_type": "markdown",
   "id": "e59fbaad-df54-4c6a-9010-9f63f1c18926",
   "metadata": {},
   "source": [
    "- re.search oder re.findall mit mit if match und match \\[0] möglich\n",
    "\n",
    "- Wann benutzt man []?\n",
    "  - Character sets\n",
    "  - Definiere Gruppe von Zeichen von denen eins gefunden werden soll\n",
    "  - Bereiche definieren: \\[a-z]\n",
    "  - Negationen: \\[^abc]\n",
    "  - Keine exakten Kombinationen\n",
    "- Wann benutzt man keine []?\n",
    "  - Exakte Folge\n",
    "  - Lookaheads wie \\d+\n",
    "  - Gruppen wie (\\w{2})\n",
    "  - Escape sequences \\d wie alle numerischen Zeichen\n",
    "  - Kombinationen wie (abc|def)"
   ]
  },
  {
   "cell_type": "code",
   "execution_count": 20,
   "id": "8670e6e2-d5ea-4727-bd12-9b353f008074",
   "metadata": {},
   "outputs": [
    {
     "name": "stdout",
     "output_type": "stream",
     "text": [
      "<re.Match object; span=(3, 6), match='def'>\n"
     ]
    }
   ],
   "source": [
    "# 1.3 Check if the string ends with \"def\".\n",
    "string13 = \"abcdef\"\n",
    "pattern = r\"def$\"\n",
    "match = re.search(pattern, string13)\n",
    "print(match)"
   ]
  },
  {
   "cell_type": "code",
   "execution_count": 27,
   "id": "181ffe61-9666-486d-8a66-3551e81ff1c4",
   "metadata": {},
   "outputs": [
    {
     "name": "stdout",
     "output_type": "stream",
     "text": [
      "<re.Match object; span=(1, 2), match='1'>\n",
      "<re.Match object; span=(3, 4), match='2'>\n",
      "<re.Match object; span=(5, 6), match='3'>\n",
      "<re.Match object; span=(7, 8), match='4'>\n",
      "<re.Match object; span=(9, 10), match='5'>\n"
     ]
    }
   ],
   "source": [
    "# 1.4 Find all digits that are preceded by a letter.\n",
    "string14 = \"a1b2c3d4e579\"\n",
    "pattern = r\"(?<=[a-zA-Z])[0-9]\"\n",
    "matches = re.finditer(pattern, string14)\n",
    "for match in matches:\n",
    "    print(match)"
   ]
  },
  {
   "cell_type": "markdown",
   "id": "16b4cfe5-c8e4-4a65-b589-2a57a9414ecf",
   "metadata": {},
   "source": [
    "Lookahead ((?=...)):\n",
    "\n",
    "    Prüft, ob nach dem aktuellen Punkt ein Muster folgt.\n",
    "    Beispiel: \\d(?=a) → Findet eine Ziffer, gefolgt von a.\n",
    "\n",
    "Negativer Lookahead ((?!...)):\n",
    "\n",
    "    Prüft, ob nach dem aktuellen Punkt ein Muster nicht folgt.\n",
    "    Beispiel: \\d(?!a) → Findet eine Ziffer, die nicht von a gefolgt wird.\n",
    "\n",
    "Lookbehind ((?<=...)):\n",
    "\n",
    "    Prüft, ob vor dem aktuellen Punkt ein Muster steht.\n",
    "    Beispiel: (?<=a)\\d → Findet eine Ziffer, die von a vorangegangen wird.\n",
    "\n",
    "Negativer Lookbehind ((?<!...)):\n",
    "\n",
    "    Prüft, ob vor dem aktuellen Punkt ein Muster nicht steht.\n",
    "    Beispiel: (?<!a)\\d → Findet eine Ziffer, die nicht von a vorangegangen wird."
   ]
  },
  {
   "cell_type": "code",
   "execution_count": 29,
   "id": "9e23e615-99fc-4e20-a302-0df520be7f0c",
   "metadata": {},
   "outputs": [
    {
     "name": "stdout",
     "output_type": "stream",
     "text": [
      "<re.Match object; span=(10, 14), match='test'>\n"
     ]
    }
   ],
   "source": [
    "# 1.5 Check if the string contains the word \"test\".\n",
    "string15 = \"this is a test\"\n",
    "pattern = r\"test\"\n",
    "match = re.search(pattern, string15)\n",
    "if match:\n",
    "    print(match)\n",
    "else:\n",
    "    print(\"No match!\")"
   ]
  },
  {
   "cell_type": "code",
   "execution_count": 30,
   "id": "2dfc6d52-8dfa-4e35-8de9-8461c8630aeb",
   "metadata": {},
   "outputs": [
    {
     "name": "stdout",
     "output_type": "stream",
     "text": [
      "<re.Match object; span=(0, 5), match='12345'>\n"
     ]
    }
   ],
   "source": [
    "# 1.6 Extract the first sequence of numbers in the string.\n",
    "string16 = \"12345abc678\"\n",
    "pattern = r\"\\d+\"\n",
    "match = re.search(pattern, string16)\n",
    "if match:\n",
    "    print(match)\n",
    "else:\n",
    "    print(\"No match!\")"
   ]
  },
  {
   "cell_type": "code",
   "execution_count": 41,
   "id": "1a29ee62-29cb-4ddc-a901-c2f9b577c19e",
   "metadata": {},
   "outputs": [
    {
     "name": "stdout",
     "output_type": "stream",
     "text": [
      "<re.Match object; span=(3, 4), match='E'>\n"
     ]
    }
   ],
   "source": [
    "# 1.7 Check if the string contains any vowels.\n",
    "string17 = \"bcdEf\"\n",
    "pattern = r\"[aeiou]\"\n",
    "match = re.search(pattern, string17, re.I) # re.IGNORECASE flag\n",
    "if match:\n",
    "    print(match)\n",
    "else:\n",
    "    print(\"No match!\")"
   ]
  },
  {
   "cell_type": "code",
   "execution_count": 44,
   "id": "357fa08d-ad95-43f3-92ba-9b3cecc1ac01",
   "metadata": {},
   "outputs": [
    {
     "name": "stdout",
     "output_type": "stream",
     "text": [
      "<re.Match object; span=(0, 5), match='12.34'>\n",
      "<re.Match object; span=(7, 12), match='56.78'>\n"
     ]
    }
   ],
   "source": [
    "# 1.8 Find all decimal numbers.\n",
    "string18 = \"12.34, 56.78\"\n",
    "pattern = r\"\\d+\\.\\d+\"\n",
    "matches = re.finditer(pattern, string18)\n",
    "for match in matches:\n",
    "    print(match)"
   ]
  },
  {
   "cell_type": "code",
   "execution_count": 46,
   "id": "5f34864d-cfc1-4074-a203-3aabd552a438",
   "metadata": {},
   "outputs": [
    {
     "name": "stdout",
     "output_type": "stream",
     "text": [
      "<re.Match object; span=(0, 5), match='HELLO'>\n"
     ]
    }
   ],
   "source": [
    "# 1.9 Check if the string starts with an uppercase word.\n",
    "string19 = \"HELLO world\"\n",
    "pattern = r\"^[A-Z][a-zA-Z]*\"\n",
    "match = re.search(pattern, string19)\n",
    "if match:\n",
    "    print(match)\n",
    "else:\n",
    "    print(\"No match!\")"
   ]
  },
  {
   "cell_type": "code",
   "execution_count": 47,
   "id": "8a3f758a-bb6d-4b3e-8375-ab0eb6288317",
   "metadata": {},
   "outputs": [
    {
     "name": "stdout",
     "output_type": "stream",
     "text": [
      "<re.Match object; span=(3, 4), match='a'>\n",
      "<re.Match object; span=(5, 6), match='b'>\n",
      "<re.Match object; span=(7, 8), match='c'>\n",
      "<re.Match object; span=(9, 10), match='d'>\n",
      "<re.Match object; span=(11, 12), match='e'>\n"
     ]
    }
   ],
   "source": [
    "# 1.10 Find all letters that are followed by a digit.\n",
    "string110 = \"110a1b2c3d4e5\"\n",
    "pattern = r\"[a-zA-Z](?=\\d)\"\n",
    "matches = re.finditer(pattern, string110)\n",
    "for match in matches:\n",
    "    print(match)"
   ]
  },
  {
   "cell_type": "markdown",
   "id": "eeb76fcd-6efe-4baf-98bd-5ab80de06ee8",
   "metadata": {},
   "source": [
    "### Intermediate Level:\n",
    "\n",
    "2.1    String: \"apple, banana, cherry, date\"\n",
    "    Task: Extract all words that start with a vowel.\n",
    "\n",
    "2.2    String: \"123-456-789\"\n",
    "    Task: Replace all dashes with slashes.\n",
    "\n",
    "2.3    String: \"My email is test.email@example.com\"\n",
    "    Task: Extract the email address.\n",
    "\n",
    "2.4    String: \"2023/01/06\"\n",
    "    Task: Extract the year, month, and day as separate groups.\n",
    "\n",
    "2.5    String: \"dog, cat, bird, fish\"\n",
    "    Task: Extract all words that end with a vowel.\n",
    "\n",
    "2.6    String: \"10:30:45\"\n",
    "    Task: Extract the hours, minutes, and seconds as separate groups.\n",
    "\n",
    "2.7    String: \"Call me at +1-123-456-7890\"\n",
    "    Task: Extract the phone number.\n",
    "\n",
    "2.8    String: \"The date is 2023-01-06\"\n",
    "    Task: Validate if the date is in the format yyyy-mm-dd.\n",
    "\n",
    "2.9    String: \"This123 is456 a789 test\"\n",
    "    Task: Extract all numbers from the string.\n",
    "\n",
    "2.10    String: \"The car costs $1000, the bike $200\"\n",
    "    Task: Extract all amounts of money."
   ]
  },
  {
   "cell_type": "code",
   "execution_count": 12,
   "id": "a261fbcd-3394-49ea-a2cb-db3dae47a8ba",
   "metadata": {},
   "outputs": [
    {
     "name": "stdout",
     "output_type": "stream",
     "text": [
      "<re.Match object; span=(0, 5), match='apple'>\n"
     ]
    }
   ],
   "source": [
    "# 2.1 Extract all words that start with a vowel.\n",
    "string21 = \"apple, banana, cherry, date\"\n",
    "pattern = r\"\\b[aeiou][a-z]*\\b\"\n",
    "matches = re.finditer(pattern, string21, re.I)\n",
    "for match in matches:\n",
    "    print(match)"
   ]
  },
  {
   "cell_type": "code",
   "execution_count": 13,
   "id": "3dda1810-f44a-4a19-9c50-ebd3da49081a",
   "metadata": {},
   "outputs": [
    {
     "name": "stdout",
     "output_type": "stream",
     "text": [
      "123/456/789\n"
     ]
    }
   ],
   "source": [
    "# 2.2 Replace all dashes with slashes.\n",
    "string22 = \"123-456-789\"\n",
    "sub = re.sub(\"-\", \"/\", string22)\n",
    "print(sub)"
   ]
  },
  {
   "cell_type": "code",
   "execution_count": 21,
   "id": "0f0a75d7-97dc-4ada-83e3-dc4820c6ae53",
   "metadata": {},
   "outputs": [
    {
     "name": "stdout",
     "output_type": "stream",
     "text": [
      "['test.email@example.com']\n"
     ]
    }
   ],
   "source": [
    "# 2.3 Extract the email address.\n",
    "string23 = \"My email is test.email@example.com\"\n",
    "pattern = r\"[a-zA-Z0-9._%+-]+@[a-zA-Z0-9.-]+\\.[a-zA-Z]{2,}\"\n",
    "match = re.findall(pattern, string23) # Preferable, no match object needed here\n",
    "if match:\n",
    "    print(match)\n",
    "else:\n",
    "    print(\"No match\")"
   ]
  },
  {
   "cell_type": "code",
   "execution_count": null,
   "id": "6e733d2d-47f6-4df8-b488-931f54568c9d",
   "metadata": {},
   "outputs": [],
   "source": []
  },
  {
   "cell_type": "markdown",
   "id": "1baa1186-5221-4921-bddf-c4ee7ff345af",
   "metadata": {},
   "source": [
    "### Advanced Level:\n",
    "\n",
    "3.1    String: \"The cost is $12.99 and $24.50.\"\n",
    "    Task: Extract all prices (e.g., $12.99, $24.50).\n",
    "\n",
    "3.2    String: \"ababababab\"\n",
    "    Task: Find all instances where \"ab\" appears at least three times in a row.\n",
    "\n",
    "3.3    String: \"A1B2C3D4E5\"\n",
    "    Task: Extract all pairs of uppercase letters followed by a digit.\n",
    "\n",
    "3.4    String: \"Phone: 123-456-7890, Fax: 987-654-3210\"\n",
    "    Task: Extract all phone numbers.\n",
    "\n",
    "3.5    String: \"AAABBBCCCDDD\"\n",
    "    Task: Find all sequences where a character appears exactly three times in a row.\n",
    "\n",
    "3.6    String: \"https://example.com/page\"\n",
    "    Task: Extract the protocol, hostname, domain, and path.\n",
    "\n",
    "3.7    String: \"abc123xyz456\"\n",
    "    Task: Replace all numbers with their tripled values.\n",
    "\n",
    "3.8    String: \"This is TESTING\"\n",
    "    Task: Find all uppercase letters that are not followed by lowercase letters.\n",
    "\n",
    "3.9    String: \"1234abcd5678\"\n",
    "    Task: Replace all letters with their uppercase equivalents.\n",
    "\n",
    "3.10    String: \"abcABCabc\"\n",
    "    Task: Extract all sequences of three consecutive identical letters, regardless of case."
   ]
  },
  {
   "cell_type": "code",
   "execution_count": null,
   "id": "da29981c-d2f1-4e21-b949-1ea572ad49df",
   "metadata": {},
   "outputs": [],
   "source": []
  },
  {
   "cell_type": "markdown",
   "id": "fcbdeb43-564e-4ff2-abb8-4a4c0dd736d8",
   "metadata": {},
   "source": [
    "### Expert Level:\n",
    "\n",
    "4.1    String: \"abc123def456ghi789\"\n",
    "    Task: Replace all numbers with their sum (e.g., 123 → 6).\n",
    "\n",
    "4.2    String: \"a1b2c3d4e5f6\"\n",
    "    Task: Replace all digits with their square.\n",
    "\n",
    "4.3    String: \"https://www.example.org\"\n",
    "    Task: Extract the protocol, hostname, subdomain, and domain.\n",
    "\n",
    "4.4    String: \"HeLLo WoRLD\"\n",
    "    Task: Find all lowercase letters that are followed by uppercase letters.\n",
    "\n",
    "4.5    String: \"AABBCCDDEE112233\"\n",
    "    Task: Find all characters or numbers that appear exactly three times in a row.\n",
    "\n",
    "4.6    String: \"The price is $25.50, the discount is $5.25\"\n",
    "    Task: Add 10% to all prices in the string.\n",
    "\n",
    "4.7    String: \"abc_123_xyz_456\"\n",
    "    Task: Replace all numbers with their reversed values.\n",
    "\n",
    "4.8    String: \"abcd1234efgh5678ijkl\"\n",
    "    Task: Extract all sequences of four letters followed by four digits.\n",
    "\n",
    "4.9    String: \"The phone number is (123) 456-7890\"\n",
    "    Task: Validate if the phone number is in the format (xxx) xxx-xxxx.\n",
    "\n",
    "4.10    String: \"ABCDabcd1234\"\n",
    "    Task: Replace uppercase letters with lowercase and lowercase with uppercase."
   ]
  },
  {
   "cell_type": "code",
   "execution_count": null,
   "id": "7c25b905-14d1-4066-b618-0baa9ce6c685",
   "metadata": {},
   "outputs": [],
   "source": []
  }
 ],
 "metadata": {
  "kernelspec": {
   "display_name": "Python 3 (ipykernel)",
   "language": "python",
   "name": "python3"
  },
  "language_info": {
   "codemirror_mode": {
    "name": "ipython",
    "version": 3
   },
   "file_extension": ".py",
   "mimetype": "text/x-python",
   "name": "python",
   "nbconvert_exporter": "python",
   "pygments_lexer": "ipython3",
   "version": "3.10.14"
  }
 },
 "nbformat": 4,
 "nbformat_minor": 5
}
