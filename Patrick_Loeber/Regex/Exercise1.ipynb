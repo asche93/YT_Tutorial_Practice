{
 "cells": [
  {
   "cell_type": "markdown",
   "id": "48dc7b5b-9f2a-4ec2-ab5a-67a6be508fa7",
   "metadata": {},
   "source": [
    "# Exercises from ChatGPT"
   ]
  },
  {
   "cell_type": "markdown",
   "id": "649187ad-d038-4003-855d-02ca74dccfa8",
   "metadata": {},
   "source": [
    "Here are the regex practice exercises, formulated in English with increasing levels of difficulty:\n",
    "### Beginner Level:\n",
    "\n",
    "1.    String: \"12345\"\n",
    "    Task: Find all digits in the string.\n",
    "\n",
    "2.    String: \"abc123xyz\"\n",
    "    Task: Extract the numbers.\n",
    "\n",
    "3.    String: \"hello world\"\n",
    "    Task: Check if the string starts with \"hello\".\n",
    "\n",
    "4.    String: \"a1b2c3d4\"\n",
    "    Task: Find all characters that are followed by a digit."
   ]
  },
  {
   "cell_type": "code",
   "execution_count": 51,
   "id": "778bec07-d9d8-49d1-b778-05ace6f089a4",
   "metadata": {},
   "outputs": [],
   "source": [
    "import re\n",
    "\n",
    "def apply_regex(string: str, pattern: str, group_nr: list = None)->None:\n",
    "    matches = re.finditer(pattern, string)\n",
    "    for match in matches:\n",
    "        if group_nr is not None:\n",
    "            for el in group_nr:\n",
    "                print(match.group(el))\n",
    "        else:\n",
    "            print(match)"
   ]
  },
  {
   "cell_type": "markdown",
   "id": "730e13c9-318a-428b-bb1e-5767e403b078",
   "metadata": {},
   "source": [
    "### I. Beginner"
   ]
  },
  {
   "cell_type": "code",
   "execution_count": 52,
   "id": "9ecaeee7-2fdc-43e4-9a1e-c813f7dd52cd",
   "metadata": {},
   "outputs": [
    {
     "name": "stdout",
     "output_type": "stream",
     "text": [
      "<re.Match object; span=(0, 1), match='1'>\n",
      "<re.Match object; span=(1, 2), match='2'>\n",
      "<re.Match object; span=(2, 3), match='3'>\n",
      "<re.Match object; span=(3, 4), match='4'>\n",
      "<re.Match object; span=(4, 5), match='5'>\n"
     ]
    }
   ],
   "source": [
    "# I.1 Find all digits in the string\n",
    "apply_regex(\"12345\", r\"\\d\")"
   ]
  },
  {
   "cell_type": "code",
   "execution_count": 48,
   "id": "b1a03310-18e8-43c9-b233-890db7851a25",
   "metadata": {},
   "outputs": [
    {
     "name": "stdout",
     "output_type": "stream",
     "text": [
      "<re.Match object; span=(3, 4), match='1'>\n",
      "<re.Match object; span=(4, 5), match='2'>\n",
      "<re.Match object; span=(5, 6), match='3'>\n"
     ]
    }
   ],
   "source": [
    "# I.2 Extract the numbers.\n",
    "apply_regex(\"abc123xyz\", r\"\\d\")"
   ]
  },
  {
   "cell_type": "code",
   "execution_count": 49,
   "id": "f846033e-5f9c-44e9-a103-b1059b999bb7",
   "metadata": {},
   "outputs": [
    {
     "name": "stdout",
     "output_type": "stream",
     "text": [
      "<re.Match object; span=(0, 5), match='hello'>\n"
     ]
    }
   ],
   "source": [
    "# I.3 Check if the string starts with \"hello\".\n",
    "apply_regex(\"hello world\", r\"\\bhello\")"
   ]
  },
  {
   "cell_type": "code",
   "execution_count": 50,
   "id": "a2e02654-c1cd-4aee-a953-e595259b76ca",
   "metadata": {},
   "outputs": [
    {
     "name": "stdout",
     "output_type": "stream",
     "text": [
      "<re.Match object; span=(0, 1), match='a'>\n",
      "<re.Match object; span=(3, 4), match='c'>\n",
      "<re.Match object; span=(5, 6), match='D'>\n"
     ]
    }
   ],
   "source": [
    "# I.4 Find all characters that are followed by a digit.\n",
    "apply_regex(\"a1bc3D4\", r\"[a-zA-Z](?=\\d)\")\n",
    "# (?=) postive lookahead: only look ahead but not include the element to search for (not \"greedy\")"
   ]
  },
  {
   "cell_type": "markdown",
   "id": "6457d9ef-5408-4ed3-a4bf-d936c161eeab",
   "metadata": {},
   "source": [
    "### II. Intermediate Level:\n",
    "\n",
    "1.    String: \"dog, cat, owl, bird, apple, fish\"\n",
    "    Task: Extract all words that start with a consonant.\n",
    "\n",
    "2.    String: \"12-34-56\"\n",
    "    Task: Replace the hyphens with colons.\n",
    "\n",
    "3.    String: \"email@example.com\"\n",
    "    Task: Validate if the string is a proper email address.\n",
    "\n",
    "4.    String: \"2023-01-06\"\n",
    "    Task: Extract the year, month, and day as separate groups."
   ]
  },
  {
   "cell_type": "code",
   "execution_count": 76,
   "id": "338b4a08-4781-4f8e-a927-3b43bf7a28b4",
   "metadata": {},
   "outputs": [
    {
     "name": "stdout",
     "output_type": "stream",
     "text": [
      "dog\n",
      "cat\n",
      "bird\n",
      "fish\n"
     ]
    }
   ],
   "source": [
    "# II.1 Extract all words that start with a consonant.\n",
    "string21 = \"dog, cat, owl, bird, apple, fish\"\n",
    "pattern = r\"\\b[b-df-hj-np-tv-z]\\w*\"\n",
    "pattern2 = r\"\\b[^aeiouAEIOU\\W\\s\\d]\\w*\" # better way to solve this by negated search\n",
    "# \\b start at the beginning of a word\n",
    "# [b-df-hj-np-tv-z] includes all characters which are not consonants (a,e,i,o,u)\n",
    "# \\w* 0 or more alphanumerical characters (rest of word)\n",
    "matches = re.findall(pattern2, string21)\n",
    "for match in matches:\n",
    "    print(match)"
   ]
  },
  {
   "cell_type": "markdown",
   "id": "3da78c62-fa4a-46cb-bc00-749b4a8f19ea",
   "metadata": {},
   "source": [
    "[^...]: Negiertes Set, welches folgende Zeichen ausschließt:\n",
    "\n",
    "    aeiouAEIOU: Vokale (klein und groß).\n",
    "    \\s: Leerzeichen (damit keine leeren Matches entstehen).\n",
    "    \\W: Nicht-alphanumerische Zeichen (wie Komma, Punkt, etc.).\n",
    "    \\d: Ziffern, falls Zahlen ausgeschlossen werden sollen.\n",
    "\n",
    "\\b: Stellt sicher, dass das Match am Anfang eines Wortes beginnt.\n",
    "\n",
    "\\w*: Matcht den Rest des Wortes (0 oder mehr alphanumerische Zeichen).\n",
    "\n",
    "Warum kein finditer?\n",
    "\n",
    "    findall liefert eine Liste aller Treffer (Wörter, die mit Konsonanten beginnen) und ist ideal für diesen Fall, da wir nur die Treffer selbst benötigen.\n",
    "    Mit finditer bekommst du Match-Objekte, was mehr Aufwand bedeutet, wenn du nur die Strings brauchst (du müsstest .group() für jeden Treffer aufrufen).\n",
    "\n",
    "Wann finditer?\n",
    "\n",
    "    Wenn du zusätzliche Informationen benötigst, wie z. B. die Start- und Endposition jedes Treffers, dann wäre finditer die richtige Wahl."
   ]
  },
  {
   "cell_type": "code",
   "execution_count": 53,
   "id": "20957ab0-f43d-4ae9-a88b-a69d37f78432",
   "metadata": {},
   "outputs": [
    {
     "name": "stdout",
     "output_type": "stream",
     "text": [
      "12.34.56\n"
     ]
    }
   ],
   "source": [
    "# II.2 Replace the hyphens with colons.\n",
    "print(re.sub(\"-\", \".\", \"12-34-56\"))"
   ]
  },
  {
   "cell_type": "code",
   "execution_count": 62,
   "id": "bca3cb1b-c671-460e-af1e-d9bdbef977cc",
   "metadata": {},
   "outputs": [
    {
     "name": "stdout",
     "output_type": "stream",
     "text": [
      "email@example.com\n"
     ]
    }
   ],
   "source": [
    "# II.3 Validate if the string is a proper email address.\n",
    "# RFC 5322 standard for email addresses: \n",
    "#   email@example.com\n",
    "#   first.last@example.com\n",
    "#   email_with-dash@example.com\n",
    "#   email+tag@example.com\n",
    "#   email%custom@example.com\n",
    "\n",
    "string22 = \"email@example.com\"\n",
    "pattern = r\"^[a-zA-Z0-9._%+-]+@[a-zA-Z0-9.-]+\\.[a-zA-Z]{2,}$\"\n",
    "match = re.fullmatch(pattern, string22)\n",
    "if match:\n",
    "    print(match.group())\n",
    "else:\n",
    "    print(\"No match!\")\n",
    "\n",
    "# {2,} specifies \"at least 2\".\n",
    "# $ ensures, pattern must be at the end of string\n",
    "# {0,2} would be \"min 0 and maximum of 2\", {,2} is NOT a valid regex syntax"
   ]
  },
  {
   "cell_type": "markdown",
   "id": "58d95928-3b95-4b80-8d68-c59721947c18",
   "metadata": {},
   "source": [
    "Warum kein finditer?\n",
    "\n",
    "    Die Aufgabe verlangt nur zu prüfen, ob der komplette String einem bestimmten Muster entspricht. Dafür ist fullmatch perfekt, da es prüft, ob der gesamte String das Muster erfüllt.\n",
    "    Mit finditer würdest du zwar das Muster im String finden, aber es prüft nicht, ob der String ausschließlich aus diesem Muster besteht.\n",
    "\n",
    "Wie würde es mit finditer aussehen?\n",
    "\n",
    "    Für Validierung nicht geeignet. Du könntest zwar suchen, aber es wäre nicht sicher, dass der gesamte String gültig ist."
   ]
  },
  {
   "cell_type": "code",
   "execution_count": 66,
   "id": "4e571ac4-f3ef-4954-acbf-0cf14cfcbae6",
   "metadata": {},
   "outputs": [
    {
     "name": "stdout",
     "output_type": "stream",
     "text": [
      "('2023', '01', '06')\n"
     ]
    }
   ],
   "source": [
    "# II.4 Extract the year, month and day as seperate groups.\n",
    "string24 = \"2023-01-06\"\n",
    "pattern =r\"(\\d{4})-(\\d{2})-(\\d{2})\"\n",
    "match = re.match(pattern, string24)\n",
    "if match:\n",
    "    print(match.groups()) # groups instead of group\n",
    "else:\n",
    "    print(\"No match!\")"
   ]
  },
  {
   "cell_type": "markdown",
   "id": "2beed689-1dcb-414a-8a82-837bc3113360",
   "metadata": {},
   "source": [
    "Warum kein finditer?\n",
    "\n",
    "    Hier wollen wir Gruppen extrahieren (z. B. Jahr, Monat, Tag). Dafür ist re.match ideal, da es direkt Zugriff auf die Gruppen bietet.\n",
    "    Mit finditer bekämst du Match-Objekte und müsstest für jede Gruppe .group() oder .groups() manuell aufrufen. Es wäre unnötig kompliziert, da hier nur ein Treffer relevant ist.\n",
    "\n",
    "```python\n",
    "matches = re.finditer(r\"(\\d{4})-(\\d{2})-(\\d{2})\", string_8)\n",
    "results = [match.groups() for match in matches]\n",
    "print(results)  # Output: [('2023', '01', '06')]\n",
    "```"
   ]
  },
  {
   "cell_type": "markdown",
   "id": "cb4e6452-a30a-48a9-bd5d-79817ffe565b",
   "metadata": {},
   "source": [
    "### III. Expert"
   ]
  },
  {
   "cell_type": "code",
   "execution_count": 71,
   "id": "f3f87e99-04d5-4b6e-935b-5e1ef591fce3",
   "metadata": {},
   "outputs": [
    {
     "name": "stdout",
     "output_type": "stream",
     "text": [
      "<re.Match object; span=(13, 19), match='$25.50'>\n",
      "<re.Match object; span=(40, 45), match='$5.00'>\n"
     ]
    }
   ],
   "source": [
    "# III.1 Extract all prices (e.g., $25.50).\n",
    "string31 = \"The price is $25.50 and the discount is $5.00.\"\n",
    "pattern = r\"\\$\\d+\\.\\d{2}\"\n",
    "matches = re.finditer(pattern, string31)\n",
    "for match in matches:\n",
    "    print(match)\n",
    "\n",
    "# ^ stands for the beginning of a string, meaning \"The\" only in this case\n",
    "# ^ inside [^\\d] stands for everything except numbers"
   ]
  },
  {
   "cell_type": "code",
   "execution_count": 77,
   "id": "21875d95-52d7-43a4-95d8-9624216c8853",
   "metadata": {},
   "outputs": [
    {
     "name": "stdout",
     "output_type": "stream",
     "text": [
      "<re.Match object; span=(0, 1), match='H'>\n",
      "<re.Match object; span=(3, 4), match='L'>\n",
      "<re.Match object; span=(7, 8), match='O'>\n"
     ]
    }
   ],
   "source": [
    "# III.2 Find all uppercase letters that are followed by lowercase letters.\n",
    "string32 = \"HeLLo WOrLD\"\n",
    "pattern = r\"[A-Z](?=[a-z])\"\n",
    "matches = re.finditer(pattern, string32)\n",
    "for match in matches:\n",
    "    print(match)"
   ]
  },
  {
   "cell_type": "code",
   "execution_count": 84,
   "id": "f825be52-aa80-4978-977d-25d3f3d0cb3d",
   "metadata": {},
   "outputs": [
    {
     "name": "stdout",
     "output_type": "stream",
     "text": [
      "AA1\n",
      "CE3\n"
     ]
    }
   ],
   "source": [
    "# III.3 Find pairs of two uppercase letters followed by a digit and group them.\n",
    "string33 = \"AA1, B2, CE3, D4\"\n",
    "pattern = r\"([A-Z]{2}\\d)\"\n",
    "matches = re.finditer(pattern, string33)\n",
    "for match in matches:\n",
    "    print(match.group())\n",
    "\n",
    "# inside brackets [] every char is seen as an symbol itself: [(A-Z{2}0-9)] does not work because {2} is seen as \"{2}\" not as \"exact 2\""
   ]
  },
  {
   "cell_type": "code",
   "execution_count": 95,
   "id": "ee86815d-0326-4586-8c9a-c8e7b1f2df80",
   "metadata": {},
   "outputs": [
    {
     "name": "stdout",
     "output_type": "stream",
     "text": [
      "123-456-7890\n"
     ]
    }
   ],
   "source": [
    "# III.4 Validate if the string is a phone number in the format xxx-xxx-xxxx. Allow whitespaces in front or end.\n",
    "string34 = \" 123-456-7890  \"\n",
    "pattern = r\"^\\s*\\d{3}-\\d{3}-\\d{4}\\s*$\"\n",
    "cleaned_string = re.sub(r\"\\s+\", \"\", string34)  # remove all whitespaces while keeping pattern simple\n",
    "match = re.fullmatch(pattern, cleaned_string)\n",
    "if match:\n",
    "    print(match.group())\n",
    "else:\n",
    "    print(\"No match!\")"
   ]
  },
  {
   "cell_type": "code",
   "execution_count": null,
   "id": "43e274a5-f206-448e-a8d9-3e442daf68be",
   "metadata": {},
   "outputs": [],
   "source": []
  }
 ],
 "metadata": {
  "kernelspec": {
   "display_name": "Python 3 (ipykernel)",
   "language": "python",
   "name": "python3"
  },
  "language_info": {
   "codemirror_mode": {
    "name": "ipython",
    "version": 3
   },
   "file_extension": ".py",
   "mimetype": "text/x-python",
   "name": "python",
   "nbconvert_exporter": "python",
   "pygments_lexer": "ipython3",
   "version": "3.10.14"
  }
 },
 "nbformat": 4,
 "nbformat_minor": 5
}
