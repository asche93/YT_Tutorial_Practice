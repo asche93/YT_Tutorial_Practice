{
 "cells": [
  {
   "cell_type": "markdown",
   "id": "62f6b6ec-ace7-496e-8919-af05589ea91e",
   "metadata": {},
   "source": [
    "Title: Dataset Creation SPEED RUN - Live Coding With Python & Pandas\n",
    "\n",
    "Source: Rob Mulla YouTube Channel\n",
    "\n",
    "Author (Original Tutorial): Rob Mulla\n",
    "\n",
    "URL: https://www.youtube.com/watch?v=wiiCUsGgZx0\n",
    "\n",
    "Date of Implementation: 2024-12-27\n",
    "\n",
    "Description:\n",
    "    Dataset creation from US SEC financial statement to provide at kaggle."
   ]
  },
  {
   "cell_type": "markdown",
   "id": "eeb34a75-0155-41c9-a370-3890c0725785",
   "metadata": {},
   "source": [
    "# Goal of This Notebook\n",
    "1. Pull links to the most recent data from the SEC website:\n",
    "   - https://www.sec.gov/data-research/sec-markets-data/financial-statement-data-sets\n",
    "2. Download the zip files from the urls\n",
    "3. Unzip and format data into workable format.\n",
    "4. Save as CSV and Parquet format."
   ]
  },
  {
   "cell_type": "code",
   "execution_count": 64,
   "id": "9528a8b2-334c-46fe-8e9d-055b918830ca",
   "metadata": {},
   "outputs": [],
   "source": [
    "import pandas as pd\n",
    "import numpy as np\n",
    "\n",
    "from bs4 import BeautifulSoup\n",
    "import requests\n",
    "import re "
   ]
  },
  {
   "cell_type": "code",
   "execution_count": 65,
   "id": "9d5a3103-eb24-45b0-80dd-322d112d9785",
   "metadata": {},
   "outputs": [],
   "source": [
    "def getHTMLDocument(url):\n",
    "    return requests.get(url).text"
   ]
  },
  {
   "cell_type": "code",
   "execution_count": 66,
   "id": "e00b56a4-adf0-4ad5-939f-4ab4108e0df5",
   "metadata": {},
   "outputs": [],
   "source": [
    "# Get HTML\n",
    "html_document = getHTMLDocument('https://www.sec.gov/data-research/sec-markets-data/financial-statement-data-sets-archive')"
   ]
  },
  {
   "cell_type": "code",
   "execution_count": 67,
   "id": "209bbf3b-6271-4420-acd3-6cdad113ef48",
   "metadata": {},
   "outputs": [],
   "source": [
    "# create soap object \n",
    "soup = BeautifulSoup(html_document, 'html.parser') \n"
   ]
  },
  {
   "cell_type": "code",
   "execution_count": 68,
   "id": "998cf048-1491-4649-93be-290d3ac5d466",
   "metadata": {},
   "outputs": [
    {
     "data": {
      "text/plain": [
       "<!DOCTYPE html PUBLIC \"-//W3C//DTD XHTML 1.0 Transitional//EN\" \"http://www.w3.org/TR/xhtml1/DTD/xhtml1-transitional.dtd\">\n",
       "\n",
       "<html xmlns=\"http://www.w3.org/1999/xhtml\">\n",
       "<head>\n",
       "<meta content=\"text/html; charset=utf-8\" http-equiv=\"Content-Type\"/>\n",
       "<title>SEC.gov | Request Rate Threshold Exceeded</title>\n",
       "<style>\n",
       "html {height: 100%}\n",
       "body {height: 100%; margin:0; padding:0;}\n",
       "#header {background-color:#003968; color:#fff; padding:15px 20px 10px 20px;font-family:Arial, Helvetica, sans-serif; font-size:20px; border-bottom:solid 5px #000;}\n",
       "#footer {background-color:#003968; color:#fff; padding:15px 20px;font-family:Arial, Helvetica, sans-serif; font-size:20px;}\n",
       "#content {max-width:650px;margin:60px auto; padding:0 20px 100px 20px; background-image:url(seal_bw.png);background-repeat:no-repeat;background-position:50% 100%;}\n",
       "h1 {font-family:Georgia, Times, serif; font-size:20px;}\n",
       "h2 {text-align:center; font-family:Georgia, Times, serif; font-size:20px; width:100%; border-bottom:solid #999 1px;padding-bottom:10px; margin-bottom:20px;}\n",
       "h3 {font-family:Georgia, Times, serif; font-size:16px; margin:25px 0 0 0;}\n",
       "p {font-family:Verdana, Geneva, sans-serif;font-size:14px;line-height:1.3;}\n",
       ".grey_box {background-color:#eee; padding:5px 40px 20px 40px;margin-top:75px;}\n",
       ".grey_box p {font-size:12px;line-height:1.5}\n",
       ".note {padding: 0 40px; font-style: italic;}\n",
       "</style>\n",
       "</head>\n",
       "<body>\n",
       "<div id=\"header\">U.S. Securities and Exchange Commission</div>\n",
       "<div id=\"content\">\n",
       "<h1>Automated access to our sites must comply with SEC.gov's Privacy and Security Policy.</h1>\n",
       "<p>Please visit <a href=\"https://www.sec.gov/developer\" target=\"_blank\">www.sec.gov/developer</a> for more developer resources and Fair Access guidelines.</p>\n",
       "<p>Please visit <a href=\"https://www.sec.gov/privacy\" target=\"_blank\">www.sec.gov/privacy</a> for more information on Privacy Policy.</p>\n",
       "<p>Reference ID: 0.5f1d1002.1735336197.ff9073c1</p>\n",
       "</div></body>\n",
       "</html>"
      ]
     },
     "execution_count": 68,
     "metadata": {},
     "output_type": "execute_result"
    }
   ],
   "source": [
    "soup"
   ]
  },
  {
   "cell_type": "code",
   "execution_count": null,
   "id": "22582b5b-d287-42ca-a74b-7ac7a1294c36",
   "metadata": {},
   "outputs": [],
   "source": []
  },
  {
   "cell_type": "code",
   "execution_count": 69,
   "id": "ff472533-8259-4051-9807-7223f38e50ea",
   "metadata": {},
   "outputs": [
    {
     "name": "stdout",
     "output_type": "stream",
     "text": [
      "Fehler: 403\n"
     ]
    }
   ],
   "source": [
    "import requests\n",
    "import zipfile\n",
    "import io\n",
    "\n",
    "# URL der Bulk-Daten-ZIP-Datei\n",
    "url = \"https://www.sec.gov/Archives/edgar/daily-index/bulkdata/submissions.zip\"\n",
    "\n",
    "# Anfrage zum Herunterladen der ZIP-Datei\n",
    "response = requests.get(url)\n",
    "\n",
    "# Überprüfen, ob die Datei erfolgreich heruntergeladen wurde\n",
    "if response.status_code == 200:\n",
    "    # Entpacke die ZIP-Datei\n",
    "    with zipfile.ZipFile(io.BytesIO(response.content)) as zip_ref:\n",
    "        zip_ref.extractall(\"submissions_data\")  # Entpacken in das Verzeichnis \"submissions_data\"\n",
    "    print(\"ZIP-Datei erfolgreich entpackt!\")\n",
    "else:\n",
    "    print(f\"Fehler: {response.status_code}\")\n"
   ]
  },
  {
   "cell_type": "code",
   "execution_count": null,
   "id": "c3be8e71-b9c9-4bca-95a6-337f694244e2",
   "metadata": {},
   "outputs": [],
   "source": []
  }
 ],
 "metadata": {
  "kernelspec": {
   "display_name": "Python 3 (ipykernel)",
   "language": "python",
   "name": "python3"
  },
  "language_info": {
   "codemirror_mode": {
    "name": "ipython",
    "version": 3
   },
   "file_extension": ".py",
   "mimetype": "text/x-python",
   "name": "python",
   "nbconvert_exporter": "python",
   "pygments_lexer": "ipython3",
   "version": "3.10.14"
  }
 },
 "nbformat": 4,
 "nbformat_minor": 5
}
