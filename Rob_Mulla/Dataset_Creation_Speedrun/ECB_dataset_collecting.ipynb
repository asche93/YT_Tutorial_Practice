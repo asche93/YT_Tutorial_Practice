{
 "cells": [
  {
   "cell_type": "markdown",
   "id": "62f6b6ec-ace7-496e-8919-af05589ea91e",
   "metadata": {},
   "source": [
    "Title: Dataset Creation SPEED RUN - Live Coding With Python & Pandas\n",
    "\n",
    "Source: Rob Mulla YouTube Channel\n",
    "\n",
    "Author (Original Tutorial): Rob Mulla\n",
    "\n",
    "URL: https://www.youtube.com/watch?v=wiiCUsGgZx0\n",
    "\n",
    "Date of Implementation: 2024-12-27\n",
    "\n",
    "Description:\n",
    "    Adapted implementation of dataset creation from ECB financial statement."
   ]
  },
  {
   "cell_type": "markdown",
   "id": "eeb34a75-0155-41c9-a370-3890c0725785",
   "metadata": {},
   "source": [
    "# Goal of This Notebook\n",
    "1. Pull links to the most recent data from the SEC website:\n",
    "   - https://www.bundesbank.de/de/publikationen/ezb/wirtschaftsberichte\n",
    "2. Download the pdfs from the website.\n",
    "3. Extract financial balance and debt data for Germany.\n",
    "4. Save as CSV and Parquet format.\n",
    "5. Display data in interactive plot."
   ]
  },
  {
   "cell_type": "code",
   "execution_count": 33,
   "id": "9528a8b2-334c-46fe-8e9d-055b918830ca",
   "metadata": {},
   "outputs": [],
   "source": [
    "import pandas as pd\n",
    "import numpy as np\n",
    "\n",
    "from bs4 import BeautifulSoup\n",
    "import requests\n",
    "import re \n",
    "from pypdf import PdfReader\n",
    "from tqdm.notebook  import tqdm\n",
    "from os import listdir\n",
    "from os.path import isfile, join"
   ]
  },
  {
   "cell_type": "code",
   "execution_count": 2,
   "id": "9d5a3103-eb24-45b0-80dd-322d112d9785",
   "metadata": {},
   "outputs": [],
   "source": [
    "def getHTMLDocument(url):\n",
    "    return requests.get(url).text"
   ]
  },
  {
   "cell_type": "code",
   "execution_count": 3,
   "id": "22582b5b-d287-42ca-a74b-7ac7a1294c36",
   "metadata": {},
   "outputs": [
    {
     "name": "stdout",
     "output_type": "stream",
     "text": [
      "10 ['https://www.bundesbank.de/resource/blob/900006/27e14b08b34ced3121986e5c70f4bc13/472B63F073F071307366337C94F8C870/2024-06-ezb-wb-data.pdf', 'https://www.bundesbank.de/resource/blob/916540/ee016565599e4a58cc48e5eb809bedef/472B63F073F071307366337C94F8C870/2023-06-ezb-wb-data.pdf', 'https://www.bundesbank.de/resource/blob/900010/649275b65c926929b4816c06f8764fcc/472B63F073F071307366337C94F8C870/2024-04-ezb-wb-data.pdf', 'https://www.bundesbank.de/resource/blob/900000/d527d1d2b61980bbe68d8215927fa9e8/472B63F073F071307366337C94F8C870/2023-08-ezb-wb-data.pdf', 'https://www.bundesbank.de/resource/blob/900012/449696afadb4033788dd43192d801d91/472B63F073F071307366337C94F8C870/2024-03-ezb-wb-data.pdf', 'https://www.bundesbank.de/resource/blob/918322/b56400c60a8db7d0f9f030f1de5157ce/472B63F073F071307366337C94F8C870/2023-07-ezb-wb-data.pdf', 'https://www.bundesbank.de/resource/blob/900004/7aa6c9ebde6618aecdefd050b0d73a64/472B63F073F071307366337C94F8C870/2024-07-ezb-wb-data.pdf', 'https://www.bundesbank.de/resource/blob/900008/1004383626794b3e8e3e054e9b6cffdb/472B63F073F071307366337C94F8C870/2024-05-ezb-wb-data.pdf', 'https://www.bundesbank.de/resource/blob/923726/f2f9fccf5e5c0f0cbe278badcf523643/472B63F073F071307366337C94F8C870/2024-01-ezb-wb-data.pdf', 'https://www.bundesbank.de/resource/blob/900018/9844043fc724d5efe152178c487b80b9/472B63F073F071307366337C94F8C870/2024-02-ezb-wb-data.pdf']\n"
     ]
    }
   ],
   "source": [
    "# Get HTML\n",
    "html_document = getHTMLDocument('https://www.bundesbank.de/de/publikationen/ezb/wirtschaftsberichte')\n",
    "\n",
    "# Create soap object \n",
    "soup = BeautifulSoup(html_document, 'html.parser') \n",
    "\n",
    "# Get lines related to links (indicated by 'href')\n",
    "links = []\n",
    "for link in soup.findAll('a'):\n",
    "    links.append(link.get('href'))\n",
    "\n",
    "## Filter the links using a single list comprehension\n",
    "#filtered_pdfs = [\n",
    "#    pdf for pdf in full_pdfs if re.search(r'\\bezb-wb-data\\b', pdf)\n",
    "#]\n",
    "\n",
    "# Filter for wanted .pdf links\n",
    "pdfs = [r for r in links if str(r).endswith('.pdf') and 'data' in r]\n",
    "# Exclude links which are not 'ezb-wb-data'\n",
    "pdfs = [pdf for pdf in pdfs if 'ezb-wb-data' in pdf]\n",
    "\n",
    "## Filter links using regex\n",
    "#filtered_pdfs = [pdf for pdf in full_pdfs if re.search(r'\\bezb-wb-data\\b', pdf)]\n",
    "\n",
    "# Create set (remove duplicate entries etc, unpack with * to convert into list again)\n",
    "pdfs = [*set(pdfs)]\n",
    "full_pdfs = ['https://www.bundesbank.de' + c for c in pdfs]\n",
    "print(len(full_pdfs), full_pdfs)"
   ]
  },
  {
   "cell_type": "code",
   "execution_count": 31,
   "id": "c3be8e71-b9c9-4bca-95a6-337f694244e2",
   "metadata": {},
   "outputs": [
    {
     "data": {
      "application/vnd.jupyter.widget-view+json": {
       "model_id": "0332ffed1bc349048ce6f13f3594864c",
       "version_major": 2,
       "version_minor": 0
      },
      "text/plain": [
       "Downloading PDFs:   0%|          | 0/10 [00:00<?, ?it/s]"
      ]
     },
     "metadata": {},
     "output_type": "display_data"
    },
    {
     "name": "stdout",
     "output_type": "stream",
     "text": [
      "Downloading file:  2024-06-ezb-wb-data\n",
      "Downloading file:  2023-06-ezb-wb-data\n",
      "Downloading file:  2024-04-ezb-wb-data\n",
      "Downloading file:  2023-08-ezb-wb-data\n",
      "Downloading file:  2024-03-ezb-wb-data\n",
      "Downloading file:  2023-07-ezb-wb-data\n",
      "Downloading file:  2024-07-ezb-wb-data\n",
      "Downloading file:  2024-05-ezb-wb-data\n",
      "Downloading file:  2024-01-ezb-wb-data\n",
      "Downloading file:  2024-02-ezb-wb-data\n"
     ]
    }
   ],
   "source": [
    "# Load binary content from links and store as pdf (use progress bar from tqdm)\n",
    "total_files = len(full_pdfs)\n",
    "with tqdm(total=total_files, desc=\"Downloading PDFs\") as pbar:\n",
    "    for link in full_pdfs:\n",
    "        fname = link.split('/')[-1].split('.')[0]\n",
    "        print(\"Downloading file: \", fname)\n",
    "    \n",
    "        # Get response object for link\n",
    "        response = requests.get(link)\n",
    "\n",
    "        # Write content in pdf file\n",
    "        with open(fname + \".pdf\", 'wb') as pdf:\n",
    "            pdf.write(response.content)\n",
    "        pbar.update(1)"
   ]
  },
  {
   "cell_type": "code",
   "execution_count": 37,
   "id": "ffc86dfe-bb1b-42aa-b0e3-68640a3d344a",
   "metadata": {},
   "outputs": [
    {
     "name": "stdout",
     "output_type": "stream",
     "text": [
      "['SEC_dataset_collecting.ipynb', '2024-03-ezb-wb-data.pdf', '2023-07-ezb-wb-data.pdf', '2024-05-ezb-wb-data.pdf', '2024-07-ezb-wb-data.pdf', '2024-04-ezb-wb-data.pdf', '2023-08-ezb-wb-data.pdf', '2024-06-ezb-wb-data.pdf', '2023-06-ezb-wb-data.pdf', '2024-02-ezb-wb-data.pdf', '2024-01-ezb-wb-data.pdf']\n",
      "['2024-03-ezb-wb-data.pdf', '2023-07-ezb-wb-data.pdf', '2024-05-ezb-wb-data.pdf', '2024-07-ezb-wb-data.pdf', '2024-04-ezb-wb-data.pdf', '2023-08-ezb-wb-data.pdf', '2024-06-ezb-wb-data.pdf', '2023-06-ezb-wb-data.pdf', '2024-02-ezb-wb-data.pdf', '2024-01-ezb-wb-data.pdf']\n"
     ]
    }
   ],
   "source": [
    "all_files = [f for f in listdir('./') if isfile(join('./', f))]\n",
    "pdf_files = [f for f in all_files if '.pdf' and 'ezb-wb-data' in f]\n",
    "\n",
    "print(onlyfiles)\n",
    "print(onlypdfs)"
   ]
  },
  {
   "cell_type": "code",
   "execution_count": 68,
   "id": "6c36b657-bacb-44f8-b252-774fbc805223",
   "metadata": {},
   "outputs": [],
   "source": [
    "pdf_data = {}\n",
    "for f in onlypdfs:\n",
    "    doc = PdfReader(f)\n",
    "    # Access second last page where stats of interest are located\n",
    "    page = reader.pages[-2]\n",
    "    text = page.extract_text()\n",
    "\n",
    "    text = text.replace('\\xad', '')\n",
    "    \n",
    "    # Regex, extract data between the indicator lines\n",
    "    pattern = r\"EZB, Wirtschaftsbericht.*?\\n(.*?)(?=\\n6 Entwicklung der öffentlichen Finanzen)\"\n",
    "\n",
    "    # Search with line breaks\n",
    "    match = re.search(pattern, text, re.S)\n",
    "\n",
    "    if match:\n",
    "        data = match.group(1)  # get lines\n",
    "        data = data.strip()  # remove trailing spaces\n",
    "    else:\n",
    "        print(\"No matches!\")\n",
    "    sections = re.split(r'\\nVerschuldung\\n', data)\n",
    "    pdf_data[f] = sections"
   ]
  },
  {
   "cell_type": "code",
   "execution_count": 69,
   "id": "a8055aac-62b7-4c36-b9b3-59488e5c9571",
   "metadata": {},
   "outputs": [
    {
     "data": {
      "text/plain": [
       "'2019 97,6 59,6 8,5 57,1 180,6 98,2 97,4 70,9 134,2 93,0\\n2020 111,8 68,8 18,6 58,1 207,0 120,3 114,6 86,8 154,9 114,9\\n2021 108,0 69,0 17,8 54,4 195,0 116,8 112,9 78,1 147,1 99,3\\n2022 104,3 66,1 18,5 44,4 172,6 111,6 111,8 68,2 141,7 85,6\\n2022 Q4 104,3 66,1 18,5 44,4 172,6 111,6 111,8 68,2 141,7 85,6\\n2023 Q1 106,4 65,7 17,2 43,6 169,3 111,2 112,3 69,1 140,9 83,1\\nQ2 105,9 64,7 18,5 43,2 167,1 111,2 111,8 66,5 142,5 85,1\\nQ3 108,0 64,8 18,2 43,6 165,5 109,8 111,9 64,4 140,6 79,4\\nLettland Litauen Luxemburg Malta Niederlande Österreich Portugal Slowenien Slowakei Finnland\\n11 12 13 14 15 16 17 18 19 20\\nFinanzierungssaldo\\n2019 0,5 0,5 2,2 0,5 1,8 0,6 0,1 0,7 1,2 0,9\\n2020 4,5 6,5 3,4 9,6 3,7 8,0 5,8 7,6 5,4 5,6\\n2021 7,2 1,1 0,6 7,5 2,2 5,8 2,9 4,6 5,2 2,8\\n2022 4,6 0,7 0,3 5,7 0,1 3,5 0,3 3,0 2,0 0,8\\n2022 Q4 4,6 0,7 0,3 5,6 0,1 3,5 0,3 3,0 2,0 0,5\\n2023 Q1 4,4 1,2 0,6 4,8 0,1 3,3 0,1 3,2 2,6 0,4\\nQ2 3,0 1,2 0,7 4,2 0,2 3,6 0,0 3,2 3,4 1,1\\nQ3 3,3 1,1 0,4 3,4 0,1 3,5 0,5 3,5 4,7 1,5'"
      ]
     },
     "execution_count": 69,
     "metadata": {},
     "output_type": "execute_result"
    }
   ],
   "source": [
    "pdf_data[\"2024-03-ezb-wb-data.pdf\"][1]"
   ]
  }
 ],
 "metadata": {
  "kernelspec": {
   "display_name": "Python 3 (ipykernel)",
   "language": "python",
   "name": "python3"
  },
  "language_info": {
   "codemirror_mode": {
    "name": "ipython",
    "version": 3
   },
   "file_extension": ".py",
   "mimetype": "text/x-python",
   "name": "python",
   "nbconvert_exporter": "python",
   "pygments_lexer": "ipython3",
   "version": "3.10.14"
  }
 },
 "nbformat": 4,
 "nbformat_minor": 5
}
