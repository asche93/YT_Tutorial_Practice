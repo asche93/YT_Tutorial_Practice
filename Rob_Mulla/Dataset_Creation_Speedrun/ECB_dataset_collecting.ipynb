{
 "cells": [
  {
   "cell_type": "markdown",
   "id": "62f6b6ec-ace7-496e-8919-af05589ea91e",
   "metadata": {},
   "source": [
    "Title: Dataset Creation SPEED RUN - Live Coding With Python & Pandas\n",
    "\n",
    "Source: Rob Mulla YouTube Channel\n",
    "\n",
    "Author (Original Tutorial): Rob Mulla\n",
    "\n",
    "URL: https://www.youtube.com/watch?v=wiiCUsGgZx0\n",
    "\n",
    "Date of Implementation: 2024-12-27\n",
    "\n",
    "Description:\n",
    "    Adapted implementation of dataset creation from ECB financial statement."
   ]
  },
  {
   "cell_type": "markdown",
   "id": "eeb34a75-0155-41c9-a370-3890c0725785",
   "metadata": {},
   "source": [
    "# Goal of This Notebook\n",
    "1. Pull links to the most recent data from the SEC website:\n",
    "   - https://www.bundesbank.de/de/publikationen/ezb/wirtschaftsberichte\n",
    "2. Download the pdfs from the website.\n",
    "3. Extract financial balance and debt data for Germany.\n",
    "4. Save as CSV and Parquet format.\n",
    "5. Display data in interactive plot."
   ]
  },
  {
   "cell_type": "code",
   "execution_count": 17,
   "id": "9528a8b2-334c-46fe-8e9d-055b918830ca",
   "metadata": {},
   "outputs": [],
   "source": [
    "import pandas as pd\n",
    "import numpy as np\n",
    "\n",
    "from bs4 import BeautifulSoup\n",
    "import requests\n",
    "import re \n",
    "import glob\n",
    "from pypdf import PdfReader\n",
    "from tqdm.notebook  import tqdm\n",
    "from os import listdir\n",
    "from os.path import isfile, join"
   ]
  },
  {
   "cell_type": "code",
   "execution_count": 18,
   "id": "9d5a3103-eb24-45b0-80dd-322d112d9785",
   "metadata": {},
   "outputs": [],
   "source": [
    "def getHTMLDocument(url):\n",
    "    return requests.get(url).text"
   ]
  },
  {
   "cell_type": "code",
   "execution_count": 19,
   "id": "22582b5b-d287-42ca-a74b-7ac7a1294c36",
   "metadata": {},
   "outputs": [
    {
     "name": "stdout",
     "output_type": "stream",
     "text": [
      "10 ['https://www.bundesbank.de/resource/blob/900000/d527d1d2b61980bbe68d8215927fa9e8/472B63F073F071307366337C94F8C870/2023-08-ezb-wb-data.pdf', 'https://www.bundesbank.de/resource/blob/900010/649275b65c926929b4816c06f8764fcc/472B63F073F071307366337C94F8C870/2024-04-ezb-wb-data.pdf', 'https://www.bundesbank.de/resource/blob/916540/ee016565599e4a58cc48e5eb809bedef/472B63F073F071307366337C94F8C870/2023-06-ezb-wb-data.pdf', 'https://www.bundesbank.de/resource/blob/900004/7aa6c9ebde6618aecdefd050b0d73a64/472B63F073F071307366337C94F8C870/2024-07-ezb-wb-data.pdf', 'https://www.bundesbank.de/resource/blob/900008/1004383626794b3e8e3e054e9b6cffdb/472B63F073F071307366337C94F8C870/2024-05-ezb-wb-data.pdf', 'https://www.bundesbank.de/resource/blob/923726/f2f9fccf5e5c0f0cbe278badcf523643/472B63F073F071307366337C94F8C870/2024-01-ezb-wb-data.pdf', 'https://www.bundesbank.de/resource/blob/918322/b56400c60a8db7d0f9f030f1de5157ce/472B63F073F071307366337C94F8C870/2023-07-ezb-wb-data.pdf', 'https://www.bundesbank.de/resource/blob/900006/27e14b08b34ced3121986e5c70f4bc13/472B63F073F071307366337C94F8C870/2024-06-ezb-wb-data.pdf', 'https://www.bundesbank.de/resource/blob/900012/449696afadb4033788dd43192d801d91/472B63F073F071307366337C94F8C870/2024-03-ezb-wb-data.pdf', 'https://www.bundesbank.de/resource/blob/900018/9844043fc724d5efe152178c487b80b9/472B63F073F071307366337C94F8C870/2024-02-ezb-wb-data.pdf']\n"
     ]
    }
   ],
   "source": [
    "# Get HTML\n",
    "html_document = getHTMLDocument('https://www.bundesbank.de/de/publikationen/ezb/wirtschaftsberichte')\n",
    "\n",
    "# Create soap object \n",
    "soup = BeautifulSoup(html_document, 'html.parser') \n",
    "\n",
    "# Get lines related to links (indicated by 'href')\n",
    "links = []\n",
    "for link in soup.findAll('a'):\n",
    "    links.append(link.get('href'))\n",
    "\n",
    "## Filter the links using a single list comprehension\n",
    "#filtered_pdfs = [\n",
    "#    pdf for pdf in full_pdfs if re.search(r'\\bezb-wb-data\\b', pdf)\n",
    "#]\n",
    "\n",
    "# Filter for wanted .pdf links\n",
    "pdfs = [r for r in links if str(r).endswith('.pdf') and 'data' in r]\n",
    "# Exclude links which are not 'ezb-wb-data'\n",
    "pdfs = [pdf for pdf in pdfs if 'ezb-wb-data' in pdf]\n",
    "\n",
    "## Filter links using regex\n",
    "#filtered_pdfs = [pdf for pdf in full_pdfs if re.search(r'\\bezb-wb-data\\b', pdf)]\n",
    "\n",
    "# Create set (remove duplicate entries etc, unpack with * to convert into list again)\n",
    "pdfs = [*set(pdfs)]\n",
    "full_pdfs = ['https://www.bundesbank.de' + c for c in pdfs]\n",
    "print(len(full_pdfs), full_pdfs)"
   ]
  },
  {
   "cell_type": "code",
   "execution_count": 20,
   "id": "c3be8e71-b9c9-4bca-95a6-337f694244e2",
   "metadata": {},
   "outputs": [
    {
     "data": {
      "application/vnd.jupyter.widget-view+json": {
       "model_id": "b7c235816a65468c8c6ca32d96fc6d21",
       "version_major": 2,
       "version_minor": 0
      },
      "text/plain": [
       "Downloading PDFs:   0%|          | 0/10 [00:00<?, ?it/s]"
      ]
     },
     "metadata": {},
     "output_type": "display_data"
    },
    {
     "name": "stdout",
     "output_type": "stream",
     "text": [
      "Downloading file:  2023-08-ezb-wb-data\n",
      "Downloading file:  2024-04-ezb-wb-data\n",
      "Downloading file:  2023-06-ezb-wb-data\n",
      "Downloading file:  2024-07-ezb-wb-data\n",
      "Downloading file:  2024-05-ezb-wb-data\n",
      "Downloading file:  2024-01-ezb-wb-data\n",
      "Downloading file:  2023-07-ezb-wb-data\n",
      "Downloading file:  2024-06-ezb-wb-data\n",
      "Downloading file:  2024-03-ezb-wb-data\n",
      "Downloading file:  2024-02-ezb-wb-data\n"
     ]
    }
   ],
   "source": [
    "# Load binary content from links and store as pdf (use progress bar from tqdm)\n",
    "total_files = len(full_pdfs)\n",
    "with tqdm(total=total_files, desc=\"Downloading PDFs\") as pbar:\n",
    "    for link in full_pdfs:\n",
    "        fname = link.split('/')[-1].split('.')[0]\n",
    "        print(\"Downloading file: \", fname)\n",
    "    \n",
    "        # Get response object for link\n",
    "        response = requests.get(link)\n",
    "\n",
    "        # Write content in pdf file\n",
    "        with open(fname + \".pdf\", 'wb') as pdf:\n",
    "            pdf.write(response.content)\n",
    "        pbar.update(1)"
   ]
  },
  {
   "cell_type": "code",
   "execution_count": 22,
   "id": "352beae9-7a03-4567-b352-35322ef78656",
   "metadata": {},
   "outputs": [
    {
     "name": "stdout",
     "output_type": "stream",
     "text": [
      "Extracting raw data from  ./2024-03-ezb-wb-data.pdf\n",
      "Extracting raw data from  ./2023-07-ezb-wb-data.pdf\n",
      "Extracting raw data from  ./2024-05-ezb-wb-data.pdf\n",
      "Extracting raw data from  ./2024-07-ezb-wb-data.pdf\n",
      "Extracting raw data from  ./2024-04-ezb-wb-data.pdf\n",
      "Extracting raw data from  ./2023-08-ezb-wb-data.pdf\n",
      "Extracting raw data from  ./2024-06-ezb-wb-data.pdf\n",
      "Extracting raw data from  ./2023-06-ezb-wb-data.pdf\n",
      "Extracting raw data from  ./2024-02-ezb-wb-data.pdf\n",
      "Extracting raw data from  ./2024-01-ezb-wb-data.pdf\n"
     ]
    }
   ],
   "source": [
    "# Get all downloaded PDF files\n",
    "pdf_files = [f for f in glob.glob(\"./*.pdf\") if \"ezb-wb-data\" in f]\n",
    "pdf_data = {}\n",
    "for f in pdf_files:\n",
    "    print(\"Extracting raw data from \", f)\n",
    "    doc = PdfReader(f)\n",
    "    # Access second last page where stats of interest are located\n",
    "    page = doc.pages[-2]\n",
    "    text = page.extract_text()\n",
    "    text = text.replace('\\xad', '')\n",
    "    # Regex, extract data between the indicator lines\n",
    "    pattern = r\"EZB, Wirtschaftsbericht.*?\\n(.*?)(?=\\n6 Entwicklung der öffentlichen Finanzen)\"\n",
    "    # Search with line breaks\n",
    "    match = re.search(pattern, text, re.S)\n",
    "    if match:\n",
    "        data = match.group(1)  # get lines\n",
    "        data = data.strip()  # remove trailing spaces\n",
    "    else:\n",
    "        print(\"No matches!\")\n",
    "    pdf_data[f] = data"
   ]
  },
  {
   "cell_type": "code",
   "execution_count": 24,
   "id": "548cd6cc-ffa6-468a-917c-f7e3ae392e67",
   "metadata": {},
   "outputs": [],
   "source": [
    "def fix_double_year_line(data: dict, key: str, sub_id: str, typ:str)-> None:\n",
    "    raw_str = data[key][sub_id][typ]\n",
    "    lines = raw_str.split(\"\\n\") # split strings by line breaks \"\\n\"\n",
    "    lines = [item for item in lines if item] # remove empty strings ''\n",
    "    header = lines[0] # countries\n",
    "    data = lines[1:] # remaining data\n",
    "    # first data row contains two years, there is no linebreak, split them into two lines\n",
    "    corrected_data = []\n",
    "    left_line= [] \n",
    "    right_line = []\n",
    "    line_elements = lines[1].split() # get line of interest\n",
    "    # iter elements in line, find missing line break point by element length\n",
    "    for el in line_elements: \n",
    "        if len(right_line) > 0:\n",
    "            right_line.append(el)\n",
    "        elif len(el) > 2 and \"20\" in el:\n",
    "            idx = el.find(\"20\")\n",
    "            left_line.append(el[:idx])\n",
    "            right_line.append(el[idx:])\n",
    "        else:\n",
    "            left_line.append(el)\n",
    "    # get remaining data\n",
    "    remaining_data = [\"\".join(el) for el in data[1:]]\n",
    "    str_remaining_data = \"\\n\".join(remaining_data)\n",
    "    # merge parts into single string\n",
    "    corrected_data.append(header)\n",
    "    corrected_data.append(\" \".join(left_line))\n",
    "    corrected_data.append(\" \".join(right_line))\n",
    "    corrected_data.append(\"\".join(str_lasting_data))\n",
    "    formatted_text = \"\\n\".join(corrected_data)\n",
    "    # overwrite specific dict value\n",
    "    tab_dict[key][sub_id][typ] = formatted_text\n",
    "\n",
    "# Establish dict with subtables in order to merge them into one df\n",
    "tab_dict = {}\n",
    "for key, val in pdf_data.items():\n",
    "    tab_dict[key] = {}\n",
    "    split  = re.split(r'(\\nLettland.*?\\n)', val, maxsplit=1)\n",
    "    first_half = split[0]\n",
    "    second_half = split[1] + split[2]\n",
    "    halfs = [first_half, second_half]\n",
    "    for id, half in enumerate(halfs):\n",
    "        tab_dict[key][id] = {}\n",
    "        parts = re.split(r'(\\nFinanzierungssaldo.*?\\n|\\nVerschuldung.*?\\n)', half)\n",
    "        balance_tab = parts[0] + parts[2]\n",
    "        debt_tab = parts[0] + parts[4]\n",
    "        tab_dict[key][id][\"balance\"] = balance_tab\n",
    "        tab_dict[key][id][\"debt\"] = debt_tab\n",
    "\n",
    "# iter through pdf's\n",
    "for key, val in tab_dict.items():\n",
    "    # iter through first and second table half\n",
    "    for sub_id in [0, 1]:\n",
    "        # iter thorugh both content types\n",
    "        for typ in [\"balance\", \"debt\"]:\n",
    "            fix_double_year_line(tab_dict, key, sub_id, typ)\n",
    "    "
   ]
  },
  {
   "cell_type": "code",
   "execution_count": 29,
   "id": "5e941599-6c93-4e45-b0b1-b4aa0159cfc4",
   "metadata": {
    "scrolled": true
   },
   "outputs": [
    {
     "name": "stdout",
     "output_type": "stream",
     "text": [
      "Belgien Deutschland Estland Irland Griechenland Spanien Frankreich Kroatien Italien Zypern\n",
      "1 2 3 4 5 6 7 8 9 10\n",
      "2019 2,0 1,5 0,1 0,5 0,9 3,1 3,1 0,2 1,5 0,9\n",
      "2020 42,2 46,2 24,6 52,2 54,7 83,0 134,9 79,6 58,9 74,7\n",
      "2021 44,0 43,4 24,5 54,0 51,7 82,5 124,5 74,4 61,1 72,5\n",
      "2022 41,0 38,1 24,7 52,3 50,1 78,4 112,4 72,3 57,8 73,3\n",
      "2022 Q4 41,0 38,1 24,7 51,6 50,1 78,4 112,4 72,3 57,8 73,3\n",
      "2023 Q1 43,0 38,1 28,3 51,5 48,3 80,2 112,3 72,0 58,0 73,3\n",
      "Q2 39,5 38,1 28,2 49,6 46,9 78,5 110,0 70,4 59,6 74,5\n",
      "Q3 41,4 37,4 25,7 49,3 45,9 78,2 107,5 71,4 58,6 73,8\n"
     ]
    }
   ],
   "source": [
    "print(tab_dict[\"./2024-03-ezb-wb-data.pdf\"][0][\"balance\"])"
   ]
  }
 ],
 "metadata": {
  "kernelspec": {
   "display_name": "Python 3 (ipykernel)",
   "language": "python",
   "name": "python3"
  },
  "language_info": {
   "codemirror_mode": {
    "name": "ipython",
    "version": 3
   },
   "file_extension": ".py",
   "mimetype": "text/x-python",
   "name": "python",
   "nbconvert_exporter": "python",
   "pygments_lexer": "ipython3",
   "version": "3.10.14"
  }
 },
 "nbformat": 4,
 "nbformat_minor": 5
}
