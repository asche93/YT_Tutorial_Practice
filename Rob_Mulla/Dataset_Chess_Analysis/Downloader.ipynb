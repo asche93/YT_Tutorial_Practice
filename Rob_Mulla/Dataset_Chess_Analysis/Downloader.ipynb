{
 "cells": [
  {
   "cell_type": "markdown",
   "id": "f3df7b75-442c-4296-a123-7a929990e254",
   "metadata": {},
   "source": [
    "Title: Finding Chess Cheaters with Python! - Data Science Uncut Livestream\n",
    "\n",
    "Source: Rob Mulla YouTube Channel\n",
    "\n",
    "Author (Original Tutorial): Rob Mulla\n",
    "\n",
    "URL: https://www.youtube.com/watch?v=91mC3qs_kw4\n",
    "\n",
    "Date of Implementation: 2024-01-08\n",
    "\n",
    "Description:\n",
    "    Using data science to determine chess cheating."
   ]
  },
  {
   "cell_type": "markdown",
   "id": "cccdacbe-a72e-4502-b1e7-199b477b10fd",
   "metadata": {},
   "source": [
    "# Download Grandmaster PGN Games"
   ]
  },
  {
   "cell_type": "code",
   "execution_count": 20,
   "id": "f1bc1cbb-f871-45f6-8f50-ab0e23add6eb",
   "metadata": {},
   "outputs": [],
   "source": [
    "from bs4 import BeautifulSoup\n",
    "import urllib.request\n",
    "from pathlib import Path\n",
    "from tqdm.notebook  import tqdm\n",
    "\n",
    "script_dir = Path.cwd()\n",
    "\n",
    "site = 'https://www.pgnmentor.com/files.html'\n",
    "base_url = 'http://www.pgnmentor.com/'\n",
    "\n",
    "# Get raw html\n",
    "import requests\n",
    "r = requests.get(site)\n",
    "data = r.text\n",
    "soup = BeautifulSoup(data)\n",
    "\n",
    "# 'a' tags represent link elements\n",
    "# href is an attribute from 'a' tag\n",
    "links = [a.get('href') for a in soup.find_all('a', href=True)]"
   ]
  },
  {
   "cell_type": "code",
   "execution_count": 16,
   "id": "be2099d5-80de-4175-903e-9f79c318ccd7",
   "metadata": {},
   "outputs": [
    {
     "name": "stdout",
     "output_type": "stream",
     "text": [
      "['players/Panno.zip', 'players/Horwitz.zip', 'players/Serper.zip', 'players/Winawer.zip', 'players/Huebner.zip']\n"
     ]
    }
   ],
   "source": [
    "# Extract zip files only\n",
    "zips = [z for z in links if str(z).endswith('.zip')]\n",
    "zips = [*set(zips)] # get rid of duplicates\n",
    "# Filter by players (openings not of interest)\n",
    "player_zips = [p for p in zips if 'players' in p]\n",
    "print(player_zips[:5])"
   ]
  },
  {
   "cell_type": "code",
   "execution_count": 22,
   "id": "2e55f7d7-21f0-48f3-b024-4c722816f9a5",
   "metadata": {},
   "outputs": [
    {
     "data": {
      "application/vnd.jupyter.widget-view+json": {
       "model_id": "8bf09845210f4094be50188347367795",
       "version_major": 2,
       "version_minor": 0
      },
      "text/plain": [
       "Downloading Zips:   0%|          | 0/249 [00:00<?, ?it/s]"
      ]
     },
     "metadata": {},
     "output_type": "display_data"
    }
   ],
   "source": [
    "base_url = 'http://www.pgnmentor.com/'\n",
    "output_dir = script_dir / \"zips\"\n",
    "output_dir.mkdir(parents=True, exist_ok=True)\n",
    "\n",
    "with tqdm(total=len(player_zips), desc=\"Downloading Zips\") as pbar:\n",
    "    for p in player_zips:\n",
    "        out = p.split('/')[-1] # Extract file name (e.g. Magnus.zip)\n",
    "        destination = output_dir / out\n",
    "        urllib.request.urlretrieve(f\"{base_url}{p}\", destination)\n",
    "        pbar.update(1)"
   ]
  },
  {
   "cell_type": "markdown",
   "id": "97d1fbbe-1bc6-4235-9fcc-60501e96b952",
   "metadata": {},
   "source": [
    "# Unzip files"
   ]
  },
  {
   "cell_type": "code",
   "execution_count": 29,
   "id": "c4ddcb8d-cce6-4acd-93f1-24452cd01808",
   "metadata": {},
   "outputs": [
    {
     "data": {
      "application/vnd.jupyter.widget-view+json": {
       "model_id": "6ef91ebcd13d425d8d06627ec04d7ccf",
       "version_major": 2,
       "version_minor": 0
      },
      "text/plain": [
       "Unpacking Zips:   0%|          | 0/249 [00:00<?, ?it/s]"
      ]
     },
     "metadata": {},
     "output_type": "display_data"
    }
   ],
   "source": [
    "import shutil\n",
    "from glob import glob\n",
    "\n",
    "unpack_dir = script_dir / \"pgns\"\n",
    "unpack_dir.mkdir(parents=True, exist_ok=True)\n",
    "zip_files = list(output_dir.glob(\"*.zip\"))\n",
    "\n",
    "with tqdm(total=len(player_zips), desc=\"Unpacking Zips\") as pbar:\n",
    "    for zf in zip_files:\n",
    "        shutil.unpack_archive(zf, unpack_dir)\n",
    "        pbar.update(1)"
   ]
  },
  {
   "cell_type": "code",
   "execution_count": null,
   "id": "cf8fc786-cfd2-4de3-8b1f-7fe8bdca8057",
   "metadata": {},
   "outputs": [],
   "source": []
  }
 ],
 "metadata": {
  "kernelspec": {
   "display_name": "Python 3 (ipykernel)",
   "language": "python",
   "name": "python3"
  },
  "language_info": {
   "codemirror_mode": {
    "name": "ipython",
    "version": 3
   },
   "file_extension": ".py",
   "mimetype": "text/x-python",
   "name": "python",
   "nbconvert_exporter": "python",
   "pygments_lexer": "ipython3",
   "version": "3.10.14"
  }
 },
 "nbformat": 4,
 "nbformat_minor": 5
}
