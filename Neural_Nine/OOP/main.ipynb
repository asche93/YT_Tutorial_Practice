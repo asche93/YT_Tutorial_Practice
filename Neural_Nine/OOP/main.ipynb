{
 "cells": [
  {
   "cell_type": "markdown",
   "metadata": {},
   "source": [
    "## Nural Nine\n",
    "### Python Intermediate Tutorial #1 - Classes and Objects"
   ]
  },
  {
   "cell_type": "code",
   "execution_count": null,
   "metadata": {},
   "outputs": [],
   "source": [
    "class Person:\n",
    "\n",
    "    ## add global var\n",
    "    amount = 0\n",
    "\n",
    "    ## call constructor (attributes constructed by creation of an object)\n",
    "    def __init__(self, name, age, height):\n",
    "        print(\"Person constructed!\")\n",
    "        self.name = name\n",
    "        self.age = age\n",
    "        self.height = height\n",
    "        Person.amount += 1\n",
    "\n",
    "    ## call destructor\n",
    "    def __del__(self):\n",
    "        Person.amount -= 1\n",
    "        print(\"Object deleted!\")\n",
    "\n",
    "    ## defining behaviour whe printing object\n",
    "    def __str__(self):\n",
    "        return f\"Name: {self.name}, Age: {self.age}, Height: {self.height}\"\n",
    "    \n",
    "    def get_older(self, years):\n",
    "        self.age += years\n",
    "\n",
    "## create object    \n",
    "person1 = Person(\"Andre\", 30, 179)\n",
    "print(person1.name)\n",
    "print(person1.age)\n",
    "print(person1.height)\n",
    "\n",
    "## delete object\n",
    "#del person1\n",
    "\n",
    "## use string calling\n",
    "print(person1)\n",
    "\n",
    "## use functions inside class\n",
    "person1.get_older(10)\n",
    "print(person1)\n",
    "\n",
    "## test global attribute for counting persons\n",
    "print(Person.amount)\n",
    "del person1\n",
    "print(Person.amount)"
   ]
  },
  {
   "cell_type": "markdown",
   "metadata": {},
   "source": [
    "### Python Intermediate Tutorial #2 - Inheritance (Erben)"
   ]
  },
  {
   "cell_type": "code",
   "execution_count": null,
   "metadata": {},
   "outputs": [],
   "source": [
    "## idea: every dog is an animal but not every animal is a dog!\n",
    "## add worker and inherent from persons class to not do everything again (all the atrtributes etc)\n",
    "\n",
    "class Person:\n",
    "\n",
    "    def __init__(self, name, age, height):\n",
    "        print(\"Person constructed!\")\n",
    "        self.name = name\n",
    "        self.age = age\n",
    "        self.height = height\n",
    "\n",
    "    def __str__(self):\n",
    "        return f\"Name: {self.name}, Age: {self.age}, Height: {self.height}\"\n",
    "    \n",
    "    def get_older(self, years):\n",
    "        self.age += years\n",
    "\n",
    "## create class Woker and inherent from Person\n",
    "class Worker(Person):\n",
    "\n",
    "    def __init__(self, name, age, height, salary):\n",
    "        ## access the parent class constructor (Usrprungsklasse) using super\n",
    "        super(Worker, self).__init__(name, age, height)\n",
    "        ## only workers have salaries, therefore no need for super\n",
    "        self.salary = salary\n",
    "\n",
    "    ## overwritting string method\n",
    "    def __str__(self):\n",
    "        ## inherent from Person class str\n",
    "        text = super(Worker, self).__str__()\n",
    "        text += f\", Salary: {self.salary}€\"\n",
    "        return text\n",
    "\n",
    "    def calc_yearly_salary(self):\n",
    "        return self.salary * 12\n",
    "\n",
    "\n",
    "worker1 = Worker(\"Lea\", 23, 162, 2800)\n",
    "print(worker1)\n",
    "print(worker1.calc_yearly_salary())"
   ]
  },
  {
   "cell_type": "markdown",
   "metadata": {},
   "source": [
    "#### Operator Overloading"
   ]
  },
  {
   "cell_type": "code",
   "execution_count": null,
   "metadata": {},
   "outputs": [],
   "source": [
    "## add to objects. makes totally sense e.g. for vectors. not every language supports that (java does not)\n",
    "class Vector:\n",
    "\n",
    "    def __init__(self, x, y):\n",
    "        self.x = x\n",
    "        self.y = y\n",
    "\n",
    "    def __add__(self, vec):\n",
    "        return Vector(self.x + vec.x, self.y + vec.y)\n",
    "    \n",
    "    def __sub__(self, vec):\n",
    "        return Vector(self.x - vec.x, self.y - vec.y)\n",
    "    \n",
    "    def __str__(self):\n",
    "        return f\"X: {self.x}, Y: {self.y}\"\n",
    "\n",
    "\n",
    "v1 = Vector(2,5)\n",
    "v2 = Vector(-3, 20)\n",
    "\n",
    "print(v1)\n",
    "print(v2)\n",
    "\n",
    "v3 = v1 + v2\n",
    "v4 = v1 - v2\n",
    "\n",
    "print(v3)\n",
    "print(v4)\n"
   ]
  }
 ],
 "metadata": {
  "kernelspec": {
   "display_name": "Python 3",
   "language": "python",
   "name": "python3"
  },
  "language_info": {
   "name": "python",
   "version": "3.12.3"
  }
 },
 "nbformat": 4,
 "nbformat_minor": 2
}
